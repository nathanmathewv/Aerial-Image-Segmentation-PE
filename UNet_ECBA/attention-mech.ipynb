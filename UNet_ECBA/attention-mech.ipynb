{
 "cells": [
  {
   "cell_type": "code",
   "execution_count": 1,
   "metadata": {
    "_cell_guid": "b1076dfc-b9ad-4769-8c92-a6c4dae69d19",
    "_uuid": "8f2839f25d086af736a60e9eeb907d3b93b6e0e5",
    "execution": {
     "iopub.execute_input": "2025-03-31T20:36:55.245727Z",
     "iopub.status.busy": "2025-03-31T20:36:55.245420Z",
     "iopub.status.idle": "2025-03-31T20:36:59.171839Z",
     "shell.execute_reply": "2025-03-31T20:36:59.171043Z",
     "shell.execute_reply.started": "2025-03-31T20:36:55.245699Z"
    },
    "trusted": true
   },
   "outputs": [
    {
     "name": "stdout",
     "output_type": "stream",
     "text": [
      "/kaggle/input/washingtonsubset-buildings/test_labels/1.4_buildings.png\n",
      "/kaggle/input/washingtonsubset-buildings/test_labels/2.2_buildings.png\n",
      "/kaggle/input/washingtonsubset-buildings/test_labels/2.4_buildings.png\n",
      "/kaggle/input/washingtonsubset-buildings/test_labels/1.1_buildings.png\n",
      "/kaggle/input/washingtonsubset-buildings/test_labels/2.1_buildings.png\n",
      "/kaggle/input/washingtonsubset-buildings/test_labels/2.3_buildings.png\n",
      "/kaggle/input/washingtonsubset-buildings/test_labels/1.3_buildings.png\n",
      "/kaggle/input/washingtonsubset-buildings/test_labels/1.2_buildings.png\n",
      "/kaggle/input/washingtonsubset-buildings/test/OUTPUT_2_4.tif\n",
      "/kaggle/input/washingtonsubset-buildings/test/OUTPUT_1_3.tif\n",
      "/kaggle/input/washingtonsubset-buildings/test/OUTPUT_1_4.tif\n",
      "/kaggle/input/washingtonsubset-buildings/test/OUTPUT_1_1.tif\n",
      "/kaggle/input/washingtonsubset-buildings/test/OUTPUT_2_1.tif\n",
      "/kaggle/input/washingtonsubset-buildings/test/OUTPUT_2_3.tif\n",
      "/kaggle/input/washingtonsubset-buildings/test/OUTPUT_2_2.tif\n",
      "/kaggle/input/washingtonsubset-buildings/test/OUTPUT_1_2.tif\n",
      "/kaggle/input/massachusetts-buildings-dataset/label_class_dict.csv\n",
      "/kaggle/input/massachusetts-buildings-dataset/metadata.csv\n",
      "/kaggle/input/massachusetts-buildings-dataset/tiff/val_labels/22978945_15.tif\n",
      "/kaggle/input/massachusetts-buildings-dataset/tiff/val_labels/23728930_15.tif\n",
      "/kaggle/input/massachusetts-buildings-dataset/tiff/val_labels/23429155_15.tif\n",
      "/kaggle/input/massachusetts-buildings-dataset/tiff/val_labels/23579050_15.tif\n",
      "/kaggle/input/massachusetts-buildings-dataset/tiff/test_labels/23429080_15.tif\n",
      "/kaggle/input/massachusetts-buildings-dataset/tiff/test_labels/22829050_15.tif\n",
      "/kaggle/input/massachusetts-buildings-dataset/tiff/test_labels/22828990_15.tif\n",
      "/kaggle/input/massachusetts-buildings-dataset/tiff/test_labels/24179065_15.tif\n",
      "/kaggle/input/massachusetts-buildings-dataset/tiff/test_labels/23579005_15.tif\n",
      "/kaggle/input/massachusetts-buildings-dataset/tiff/test_labels/22828930_15.tif\n",
      "/kaggle/input/massachusetts-buildings-dataset/tiff/test_labels/23578960_15.tif\n",
      "/kaggle/input/massachusetts-buildings-dataset/tiff/test_labels/23429020_15.tif\n",
      "/kaggle/input/massachusetts-buildings-dataset/tiff/test_labels/23729035_15.tif\n",
      "/kaggle/input/massachusetts-buildings-dataset/tiff/test_labels/23879080_15.tif\n",
      "/kaggle/input/massachusetts-buildings-dataset/tiff/val/23429155_15.tiff\n",
      "/kaggle/input/massachusetts-buildings-dataset/tiff/val/23579050_15.tiff\n",
      "/kaggle/input/massachusetts-buildings-dataset/tiff/val/23728930_15.tiff\n",
      "/kaggle/input/massachusetts-buildings-dataset/tiff/val/22978945_15.tiff\n",
      "/kaggle/input/massachusetts-buildings-dataset/tiff/train_labels/23729005_15.tif\n",
      "/kaggle/input/massachusetts-buildings-dataset/tiff/train_labels/23278930_15.tif\n",
      "/kaggle/input/massachusetts-buildings-dataset/tiff/train_labels/23128945_15.tif\n",
      "/kaggle/input/massachusetts-buildings-dataset/tiff/train_labels/22979050_15.tif\n",
      "/kaggle/input/massachusetts-buildings-dataset/tiff/train_labels/23429065_15.tif\n",
      "/kaggle/input/massachusetts-buildings-dataset/tiff/train_labels/22979005_15.tif\n",
      "/kaggle/input/massachusetts-buildings-dataset/tiff/train_labels/23579140_15.tif\n",
      "/kaggle/input/massachusetts-buildings-dataset/tiff/train_labels/24328870_15.tif\n",
      "/kaggle/input/massachusetts-buildings-dataset/tiff/train_labels/23578945_15.tif\n",
      "/kaggle/input/massachusetts-buildings-dataset/tiff/train_labels/23729110_15.tif\n",
      "/kaggle/input/massachusetts-buildings-dataset/tiff/train_labels/23278960_15.tif\n",
      "/kaggle/input/massachusetts-buildings-dataset/tiff/train_labels/22829005_15.tif\n",
      "/kaggle/input/massachusetts-buildings-dataset/tiff/train_labels/23279140_15.tif\n",
      "/kaggle/input/massachusetts-buildings-dataset/tiff/train_labels/23429005_15.tif\n",
      "/kaggle/input/massachusetts-buildings-dataset/tiff/train_labels/24029080_15.tif\n",
      "/kaggle/input/massachusetts-buildings-dataset/tiff/train_labels/24478900_15.tif\n",
      "/kaggle/input/massachusetts-buildings-dataset/tiff/train_labels/22978930_15.tif\n",
      "/kaggle/input/massachusetts-buildings-dataset/tiff/train_labels/23128870_15.tif\n",
      "/kaggle/input/massachusetts-buildings-dataset/tiff/train_labels/23128975_15.tif\n",
      "/kaggle/input/massachusetts-buildings-dataset/tiff/train_labels/23879095_15.tif\n",
      "/kaggle/input/massachusetts-buildings-dataset/tiff/train_labels/23278990_15.tif\n",
      "/kaggle/input/massachusetts-buildings-dataset/tiff/train_labels/23729050_15.tif\n",
      "/kaggle/input/massachusetts-buildings-dataset/tiff/train_labels/23428990_15.tif\n",
      "/kaggle/input/massachusetts-buildings-dataset/tiff/train_labels/23878930_15.tif\n",
      "/kaggle/input/massachusetts-buildings-dataset/tiff/train_labels/23729080_15.tif\n",
      "/kaggle/input/massachusetts-buildings-dataset/tiff/train_labels/22678975_15.tif\n",
      "/kaggle/input/massachusetts-buildings-dataset/tiff/train_labels/24478855_15.tif\n",
      "/kaggle/input/massachusetts-buildings-dataset/tiff/train_labels/23728945_15.tif\n",
      "/kaggle/input/massachusetts-buildings-dataset/tiff/train_labels/24478885_15.tif\n",
      "/kaggle/input/massachusetts-buildings-dataset/tiff/train_labels/22678945_15.tif\n",
      "/kaggle/input/massachusetts-buildings-dataset/tiff/train_labels/23579065_15.tif\n",
      "/kaggle/input/massachusetts-buildings-dataset/tiff/train_labels/24179080_15.tif\n",
      "/kaggle/input/massachusetts-buildings-dataset/tiff/train_labels/23878945_15.tif\n",
      "/kaggle/input/massachusetts-buildings-dataset/tiff/train_labels/23279050_15.tif\n",
      "/kaggle/input/massachusetts-buildings-dataset/tiff/train_labels/23129020_15.tif\n",
      "/kaggle/input/massachusetts-buildings-dataset/tiff/train_labels/23879110_15.tif\n",
      "/kaggle/input/massachusetts-buildings-dataset/tiff/train_labels/23579125_15.tif\n",
      "/kaggle/input/massachusetts-buildings-dataset/tiff/train_labels/23129155_15.tif\n",
      "/kaggle/input/massachusetts-buildings-dataset/tiff/train_labels/23728975_15.tif\n",
      "/kaggle/input/massachusetts-buildings-dataset/tiff/train_labels/23579035_15.tif\n",
      "/kaggle/input/massachusetts-buildings-dataset/tiff/train_labels/24179035_15.tif\n",
      "/kaggle/input/massachusetts-buildings-dataset/tiff/train_labels/23878990_15.tif\n",
      "/kaggle/input/massachusetts-buildings-dataset/tiff/train_labels/22978960_15.tif\n",
      "/kaggle/input/massachusetts-buildings-dataset/tiff/train_labels/23128960_15.tif\n",
      "/kaggle/input/massachusetts-buildings-dataset/tiff/train_labels/24328855_15.tif\n",
      "/kaggle/input/massachusetts-buildings-dataset/tiff/train_labels/23278945_15.tif\n",
      "/kaggle/input/massachusetts-buildings-dataset/tiff/train_labels/24329095_15.tif\n",
      "/kaggle/input/massachusetts-buildings-dataset/tiff/train_labels/22828975_15.tif\n",
      "/kaggle/input/massachusetts-buildings-dataset/tiff/train_labels/23278975_15.tif\n",
      "/kaggle/input/massachusetts-buildings-dataset/tiff/train_labels/23278900_15.tif\n",
      "/kaggle/input/massachusetts-buildings-dataset/tiff/train_labels/23579080_15.tif\n",
      "/kaggle/input/massachusetts-buildings-dataset/tiff/train_labels/22828945_15.tif\n",
      "/kaggle/input/massachusetts-buildings-dataset/tiff/train_labels/22978885_15.tif\n",
      "/kaggle/input/massachusetts-buildings-dataset/tiff/train_labels/23129035_15.tif\n",
      "/kaggle/input/massachusetts-buildings-dataset/tiff/train_labels/23879035_15.tif\n",
      "/kaggle/input/massachusetts-buildings-dataset/tiff/train_labels/24029110_15.tif\n",
      "/kaggle/input/massachusetts-buildings-dataset/tiff/train_labels/22679005_15.tif\n",
      "/kaggle/input/massachusetts-buildings-dataset/tiff/train_labels/23129140_15.tif\n",
      "/kaggle/input/massachusetts-buildings-dataset/tiff/train_labels/23429170_15.tif\n",
      "/kaggle/input/massachusetts-buildings-dataset/tiff/train_labels/22678990_15.tif\n",
      "/kaggle/input/massachusetts-buildings-dataset/tiff/train_labels/23429035_15.tif\n",
      "/kaggle/input/massachusetts-buildings-dataset/tiff/train_labels/24329035_15.tif\n",
      "/kaggle/input/massachusetts-buildings-dataset/tiff/train_labels/24479005_15.tif\n",
      "/kaggle/input/massachusetts-buildings-dataset/tiff/train_labels/23278915_15.tif\n",
      "/kaggle/input/massachusetts-buildings-dataset/tiff/train_labels/23729095_15.tif\n",
      "/kaggle/input/massachusetts-buildings-dataset/tiff/train_labels/23278885_15.tif\n",
      "/kaggle/input/massachusetts-buildings-dataset/tiff/train_labels/23428915_15.tif\n",
      "/kaggle/input/massachusetts-buildings-dataset/tiff/train_labels/23128900_15.tif\n",
      "/kaggle/input/massachusetts-buildings-dataset/tiff/train_labels/23879065_15.tif\n",
      "/kaggle/input/massachusetts-buildings-dataset/tiff/train_labels/23579095_15.tif\n",
      "/kaggle/input/massachusetts-buildings-dataset/tiff/train_labels/23429095_15.tif\n",
      "/kaggle/input/massachusetts-buildings-dataset/tiff/train_labels/23279005_15.tif\n",
      "/kaggle/input/massachusetts-buildings-dataset/tiff/train_labels/23578915_15.tif\n",
      "/kaggle/input/massachusetts-buildings-dataset/tiff/train_labels/23279080_15.tif\n",
      "/kaggle/input/massachusetts-buildings-dataset/tiff/train_labels/23729020_15.tif\n",
      "/kaggle/input/massachusetts-buildings-dataset/tiff/train_labels/23129170_15.tif\n",
      "/kaggle/input/massachusetts-buildings-dataset/tiff/train_labels/22828960_15.tif\n",
      "/kaggle/input/massachusetts-buildings-dataset/tiff/train_labels/23879050_15.tif\n",
      "/kaggle/input/massachusetts-buildings-dataset/tiff/train_labels/23279020_15.tif\n",
      "/kaggle/input/massachusetts-buildings-dataset/tiff/train_labels/23428945_15.tif\n",
      "/kaggle/input/massachusetts-buildings-dataset/tiff/train_labels/24179050_15.tif\n",
      "/kaggle/input/massachusetts-buildings-dataset/tiff/train_labels/22679035_15.tif\n",
      "/kaggle/input/massachusetts-buildings-dataset/tiff/train_labels/23728840_15.tif\n",
      "/kaggle/input/massachusetts-buildings-dataset/tiff/train_labels/23579020_15.tif\n",
      "/kaggle/input/massachusetts-buildings-dataset/tiff/train_labels/23728960_15.tif\n",
      "/kaggle/input/massachusetts-buildings-dataset/tiff/train_labels/22679020_15.tif\n",
      "/kaggle/input/massachusetts-buildings-dataset/tiff/train_labels/23878975_15.tif\n",
      "/kaggle/input/massachusetts-buildings-dataset/tiff/train_labels/24478840_15.tif\n",
      "/kaggle/input/massachusetts-buildings-dataset/tiff/train_labels/23129050_15.tif\n",
      "/kaggle/input/massachusetts-buildings-dataset/tiff/train_labels/23578975_15.tif\n",
      "/kaggle/input/massachusetts-buildings-dataset/tiff/train_labels/23129005_15.tif\n",
      "/kaggle/input/massachusetts-buildings-dataset/tiff/train_labels/24029050_15.tif\n",
      "/kaggle/input/massachusetts-buildings-dataset/tiff/train_labels/23279035_15.tif\n",
      "/kaggle/input/massachusetts-buildings-dataset/tiff/train_labels/23879020_15.tif\n",
      "/kaggle/input/massachusetts-buildings-dataset/tiff/train_labels/23428930_15.tif\n",
      "/kaggle/input/massachusetts-buildings-dataset/tiff/train_labels/22979020_15.tif\n",
      "/kaggle/input/massachusetts-buildings-dataset/tiff/train_labels/23578930_15.tif\n",
      "/kaggle/input/massachusetts-buildings-dataset/tiff/train_labels/23128885_15.tif\n",
      "/kaggle/input/massachusetts-buildings-dataset/tiff/train_labels/23579110_15.tif\n",
      "/kaggle/input/massachusetts-buildings-dataset/tiff/train_labels/23878915_15.tif\n",
      "/kaggle/input/massachusetts-buildings-dataset/tiff/train_labels/23428900_15.tif\n",
      "/kaggle/input/massachusetts-buildings-dataset/tiff/train_labels/22828915_15.tif\n",
      "/kaggle/input/massachusetts-buildings-dataset/tiff/train_labels/22978915_15.tif\n",
      "/kaggle/input/massachusetts-buildings-dataset/tiff/train_labels/22978975_15.tif\n",
      "/kaggle/input/massachusetts-buildings-dataset/tiff/train_labels/23729065_15.tif\n",
      "/kaggle/input/massachusetts-buildings-dataset/tiff/train_labels/22829020_15.tif\n",
      "/kaggle/input/massachusetts-buildings-dataset/tiff/train_labels/23429125_15.tif\n",
      "/kaggle/input/massachusetts-buildings-dataset/tiff/train_labels/24329020_15.tif\n",
      "/kaggle/input/massachusetts-buildings-dataset/tiff/train_labels/22678930_15.tif\n",
      "/kaggle/input/massachusetts-buildings-dataset/tiff/train_labels/23429140_15.tif\n",
      "/kaggle/input/massachusetts-buildings-dataset/tiff/train_labels/22978990_15.tif\n",
      "/kaggle/input/massachusetts-buildings-dataset/tiff/train_labels/22678915_15.tif\n",
      "/kaggle/input/massachusetts-buildings-dataset/tiff/train_labels/24478870_15.tif\n",
      "/kaggle/input/massachusetts-buildings-dataset/tiff/train_labels/22979035_15.tif\n",
      "/kaggle/input/massachusetts-buildings-dataset/tiff/train_labels/23129125_15.tif\n",
      "/kaggle/input/massachusetts-buildings-dataset/tiff/train_labels/23428975_15.tif\n",
      "/kaggle/input/massachusetts-buildings-dataset/tiff/train_labels/22979065_15.tif\n",
      "/kaggle/input/massachusetts-buildings-dataset/tiff/train_labels/24029035_15.tif\n",
      "/kaggle/input/massachusetts-buildings-dataset/tiff/train_labels/24179020_15.tif\n",
      "/kaggle/input/massachusetts-buildings-dataset/tiff/train_labels/23428960_15.tif\n",
      "/kaggle/input/massachusetts-buildings-dataset/tiff/train_labels/23279095_15.tif\n",
      "/kaggle/input/massachusetts-buildings-dataset/tiff/train_labels/23128915_15.tif\n",
      "/kaggle/input/massachusetts-buildings-dataset/tiff/train_labels/23128990_15.tif\n",
      "/kaggle/input/massachusetts-buildings-dataset/tiff/train_labels/24029065_15.tif\n",
      "/kaggle/input/massachusetts-buildings-dataset/tiff/train_labels/22978870_15.tif\n",
      "/kaggle/input/massachusetts-buildings-dataset/tiff/train_labels/23129065_15.tif\n",
      "/kaggle/input/massachusetts-buildings-dataset/tiff/train_labels/23578990_15.tif\n",
      "/kaggle/input/massachusetts-buildings-dataset/tiff/train_labels/22679050_15.tif\n",
      "/kaggle/input/massachusetts-buildings-dataset/tiff/train_labels/22829035_15.tif\n",
      "/kaggle/input/massachusetts-buildings-dataset/tiff/train_labels/23429050_15.tif\n",
      "/kaggle/input/massachusetts-buildings-dataset/tiff/train_labels/23728990_15.tif\n",
      "/kaggle/input/massachusetts-buildings-dataset/tiff/train_labels/24328840_15.tif\n",
      "/kaggle/input/massachusetts-buildings-dataset/tiff/train_labels/23279155_15.tif\n",
      "/kaggle/input/massachusetts-buildings-dataset/tiff/train_labels/23128930_15.tif\n",
      "/kaggle/input/massachusetts-buildings-dataset/tiff/train_labels/22678960_15.tif\n",
      "/kaggle/input/massachusetts-buildings-dataset/tiff/train_labels/22978900_15.tif\n",
      "/kaggle/input/massachusetts-buildings-dataset/tiff/train_labels/23279170_15.tif\n",
      "/kaggle/input/massachusetts-buildings-dataset/tiff/test/23579005_15.tiff\n",
      "/kaggle/input/massachusetts-buildings-dataset/tiff/test/24179065_15.tiff\n",
      "/kaggle/input/massachusetts-buildings-dataset/tiff/test/23578960_15.tiff\n",
      "/kaggle/input/massachusetts-buildings-dataset/tiff/test/22828990_15.tiff\n",
      "/kaggle/input/massachusetts-buildings-dataset/tiff/test/23429020_15.tiff\n",
      "/kaggle/input/massachusetts-buildings-dataset/tiff/test/22828930_15.tiff\n",
      "/kaggle/input/massachusetts-buildings-dataset/tiff/test/23429080_15.tiff\n",
      "/kaggle/input/massachusetts-buildings-dataset/tiff/test/23879080_15.tiff\n",
      "/kaggle/input/massachusetts-buildings-dataset/tiff/test/22829050_15.tiff\n",
      "/kaggle/input/massachusetts-buildings-dataset/tiff/test/23729035_15.tiff\n",
      "/kaggle/input/massachusetts-buildings-dataset/tiff/train/23278960_15.tiff\n",
      "/kaggle/input/massachusetts-buildings-dataset/tiff/train/23728945_15.tiff\n",
      "/kaggle/input/massachusetts-buildings-dataset/tiff/train/23279170_15.tiff\n",
      "/kaggle/input/massachusetts-buildings-dataset/tiff/train/23278975_15.tiff\n",
      "/kaggle/input/massachusetts-buildings-dataset/tiff/train/23878990_15.tiff\n",
      "/kaggle/input/massachusetts-buildings-dataset/tiff/train/23578975_15.tiff\n",
      "/kaggle/input/massachusetts-buildings-dataset/tiff/train/24029080_15.tiff\n",
      "/kaggle/input/massachusetts-buildings-dataset/tiff/train/23129035_15.tiff\n",
      "/kaggle/input/massachusetts-buildings-dataset/tiff/train/22828975_15.tiff\n",
      "/kaggle/input/massachusetts-buildings-dataset/tiff/train/23579080_15.tiff\n",
      "/kaggle/input/massachusetts-buildings-dataset/tiff/train/23578930_15.tiff\n",
      "/kaggle/input/massachusetts-buildings-dataset/tiff/train/23129125_15.tiff\n",
      "/kaggle/input/massachusetts-buildings-dataset/tiff/train/22979020_15.tiff\n",
      "/kaggle/input/massachusetts-buildings-dataset/tiff/train/23728840_15.tiff\n",
      "/kaggle/input/massachusetts-buildings-dataset/tiff/train/23129005_15.tiff\n",
      "/kaggle/input/massachusetts-buildings-dataset/tiff/train/24478870_15.tiff\n",
      "/kaggle/input/massachusetts-buildings-dataset/tiff/train/22678915_15.tiff\n",
      "/kaggle/input/massachusetts-buildings-dataset/tiff/train/23579095_15.tiff\n",
      "/kaggle/input/massachusetts-buildings-dataset/tiff/train/23428975_15.tiff\n",
      "/kaggle/input/massachusetts-buildings-dataset/tiff/train/22829005_15.tiff\n",
      "/kaggle/input/massachusetts-buildings-dataset/tiff/train/23428930_15.tiff\n",
      "/kaggle/input/massachusetts-buildings-dataset/tiff/train/23429170_15.tiff\n",
      "/kaggle/input/massachusetts-buildings-dataset/tiff/train/23729095_15.tiff\n",
      "/kaggle/input/massachusetts-buildings-dataset/tiff/train/23128885_15.tiff\n",
      "/kaggle/input/massachusetts-buildings-dataset/tiff/train/23879065_15.tiff\n",
      "/kaggle/input/massachusetts-buildings-dataset/tiff/train/23878915_15.tiff\n",
      "/kaggle/input/massachusetts-buildings-dataset/tiff/train/24328840_15.tiff\n",
      "/kaggle/input/massachusetts-buildings-dataset/tiff/train/24179020_15.tiff\n",
      "/kaggle/input/massachusetts-buildings-dataset/tiff/train/24328855_15.tiff\n",
      "/kaggle/input/massachusetts-buildings-dataset/tiff/train/23428945_15.tiff\n",
      "/kaggle/input/massachusetts-buildings-dataset/tiff/train/23128915_15.tiff\n",
      "/kaggle/input/massachusetts-buildings-dataset/tiff/train/24179035_15.tiff\n",
      "/kaggle/input/massachusetts-buildings-dataset/tiff/train/24478900_15.tiff\n",
      "/kaggle/input/massachusetts-buildings-dataset/tiff/train/22678960_15.tiff\n",
      "/kaggle/input/massachusetts-buildings-dataset/tiff/train/23879095_15.tiff\n",
      "/kaggle/input/massachusetts-buildings-dataset/tiff/train/23128930_15.tiff\n",
      "/kaggle/input/massachusetts-buildings-dataset/tiff/train/23279155_15.tiff\n",
      "/kaggle/input/massachusetts-buildings-dataset/tiff/train/23429065_15.tiff\n",
      "/kaggle/input/massachusetts-buildings-dataset/tiff/train/22828915_15.tiff\n",
      "/kaggle/input/massachusetts-buildings-dataset/tiff/train/23128870_15.tiff\n",
      "/kaggle/input/massachusetts-buildings-dataset/tiff/train/22979035_15.tiff\n",
      "/kaggle/input/massachusetts-buildings-dataset/tiff/train/24029035_15.tiff\n",
      "/kaggle/input/massachusetts-buildings-dataset/tiff/train/23279095_15.tiff\n",
      "/kaggle/input/massachusetts-buildings-dataset/tiff/train/22978900_15.tiff\n",
      "/kaggle/input/massachusetts-buildings-dataset/tiff/train/23279035_15.tiff\n",
      "/kaggle/input/massachusetts-buildings-dataset/tiff/train/23579035_15.tiff\n",
      "/kaggle/input/massachusetts-buildings-dataset/tiff/train/22829035_15.tiff\n",
      "/kaggle/input/massachusetts-buildings-dataset/tiff/train/22978870_15.tiff\n",
      "/kaggle/input/massachusetts-buildings-dataset/tiff/train/23579140_15.tiff\n",
      "/kaggle/input/massachusetts-buildings-dataset/tiff/train/23579110_15.tiff\n",
      "/kaggle/input/massachusetts-buildings-dataset/tiff/train/22678945_15.tiff\n",
      "/kaggle/input/massachusetts-buildings-dataset/tiff/train/23879050_15.tiff\n",
      "/kaggle/input/massachusetts-buildings-dataset/tiff/train/22678975_15.tiff\n",
      "/kaggle/input/massachusetts-buildings-dataset/tiff/train/23729020_15.tiff\n",
      "/kaggle/input/massachusetts-buildings-dataset/tiff/train/23278885_15.tiff\n",
      "/kaggle/input/massachusetts-buildings-dataset/tiff/train/23729080_15.tiff\n",
      "/kaggle/input/massachusetts-buildings-dataset/tiff/train/23279050_15.tiff\n",
      "/kaggle/input/massachusetts-buildings-dataset/tiff/train/23579125_15.tiff\n",
      "/kaggle/input/massachusetts-buildings-dataset/tiff/train/23729065_15.tiff\n",
      "/kaggle/input/massachusetts-buildings-dataset/tiff/train/23128975_15.tiff\n",
      "/kaggle/input/massachusetts-buildings-dataset/tiff/train/23429095_15.tiff\n",
      "/kaggle/input/massachusetts-buildings-dataset/tiff/train/22828945_15.tiff\n",
      "/kaggle/input/massachusetts-buildings-dataset/tiff/train/24329020_15.tiff\n",
      "/kaggle/input/massachusetts-buildings-dataset/tiff/train/23429035_15.tiff\n",
      "/kaggle/input/massachusetts-buildings-dataset/tiff/train/23429050_15.tiff\n",
      "/kaggle/input/massachusetts-buildings-dataset/tiff/train/23128900_15.tiff\n",
      "/kaggle/input/massachusetts-buildings-dataset/tiff/train/22828960_15.tiff\n",
      "/kaggle/input/massachusetts-buildings-dataset/tiff/train/23428915_15.tiff\n",
      "/kaggle/input/massachusetts-buildings-dataset/tiff/train/22678990_15.tiff\n",
      "/kaggle/input/massachusetts-buildings-dataset/tiff/train/22679035_15.tiff\n",
      "/kaggle/input/massachusetts-buildings-dataset/tiff/train/23428990_15.tiff\n",
      "/kaggle/input/massachusetts-buildings-dataset/tiff/train/23578915_15.tiff\n",
      "/kaggle/input/massachusetts-buildings-dataset/tiff/train/22978885_15.tiff\n",
      "/kaggle/input/massachusetts-buildings-dataset/tiff/train/24329035_15.tiff\n",
      "/kaggle/input/massachusetts-buildings-dataset/tiff/train/23728975_15.tiff\n",
      "/kaggle/input/massachusetts-buildings-dataset/tiff/train/24029110_15.tiff\n",
      "/kaggle/input/massachusetts-buildings-dataset/tiff/train/23279020_15.tiff\n",
      "/kaggle/input/massachusetts-buildings-dataset/tiff/train/23129020_15.tiff\n",
      "/kaggle/input/massachusetts-buildings-dataset/tiff/train/23128990_15.tiff\n",
      "/kaggle/input/massachusetts-buildings-dataset/tiff/train/23729005_15.tiff\n",
      "/kaggle/input/massachusetts-buildings-dataset/tiff/train/22978975_15.tiff\n",
      "/kaggle/input/massachusetts-buildings-dataset/tiff/train/23729050_15.tiff\n",
      "/kaggle/input/massachusetts-buildings-dataset/tiff/train/23879110_15.tiff\n",
      "/kaggle/input/massachusetts-buildings-dataset/tiff/train/23128945_15.tiff\n",
      "/kaggle/input/massachusetts-buildings-dataset/tiff/train/23729110_15.tiff\n",
      "/kaggle/input/massachusetts-buildings-dataset/tiff/train/23278915_15.tiff\n",
      "/kaggle/input/massachusetts-buildings-dataset/tiff/train/23428900_15.tiff\n",
      "/kaggle/input/massachusetts-buildings-dataset/tiff/train/23278990_15.tiff\n",
      "/kaggle/input/massachusetts-buildings-dataset/tiff/train/23879020_15.tiff\n",
      "/kaggle/input/massachusetts-buildings-dataset/tiff/train/23429005_15.tiff\n",
      "/kaggle/input/massachusetts-buildings-dataset/tiff/train/22979065_15.tiff\n",
      "/kaggle/input/massachusetts-buildings-dataset/tiff/train/23129050_15.tiff\n",
      "/kaggle/input/massachusetts-buildings-dataset/tiff/train/23429140_15.tiff\n",
      "/kaggle/input/massachusetts-buildings-dataset/tiff/train/23279080_15.tiff\n",
      "/kaggle/input/massachusetts-buildings-dataset/tiff/train/23278900_15.tiff\n",
      "/kaggle/input/massachusetts-buildings-dataset/tiff/train/24328870_15.tiff\n",
      "/kaggle/input/massachusetts-buildings-dataset/tiff/train/23579020_15.tiff\n",
      "/kaggle/input/massachusetts-buildings-dataset/tiff/train/23878945_15.tiff\n",
      "/kaggle/input/massachusetts-buildings-dataset/tiff/train/22829020_15.tiff\n",
      "/kaggle/input/massachusetts-buildings-dataset/tiff/train/23129170_15.tiff\n",
      "/kaggle/input/massachusetts-buildings-dataset/tiff/train/22679005_15.tiff\n",
      "/kaggle/input/massachusetts-buildings-dataset/tiff/train/23279005_15.tiff\n",
      "/kaggle/input/massachusetts-buildings-dataset/tiff/train/23129155_15.tiff\n",
      "/kaggle/input/massachusetts-buildings-dataset/tiff/train/22679020_15.tiff\n",
      "/kaggle/input/massachusetts-buildings-dataset/tiff/train/22978990_15.tiff\n",
      "/kaggle/input/massachusetts-buildings-dataset/tiff/train/24179050_15.tiff\n",
      "/kaggle/input/massachusetts-buildings-dataset/tiff/train/23579065_15.tiff\n",
      "/kaggle/input/massachusetts-buildings-dataset/tiff/train/23128960_15.tiff\n",
      "/kaggle/input/massachusetts-buildings-dataset/tiff/train/24478885_15.tiff\n",
      "/kaggle/input/massachusetts-buildings-dataset/tiff/train/22979005_15.tiff\n",
      "/kaggle/input/massachusetts-buildings-dataset/tiff/train/22978960_15.tiff\n",
      "/kaggle/input/massachusetts-buildings-dataset/tiff/train/23879035_15.tiff\n",
      "/kaggle/input/massachusetts-buildings-dataset/tiff/train/23878975_15.tiff\n",
      "/kaggle/input/massachusetts-buildings-dataset/tiff/train/24478855_15.tiff\n",
      "/kaggle/input/massachusetts-buildings-dataset/tiff/train/23129140_15.tiff\n",
      "/kaggle/input/massachusetts-buildings-dataset/tiff/train/23129065_15.tiff\n",
      "/kaggle/input/massachusetts-buildings-dataset/tiff/train/23278930_15.tiff\n",
      "/kaggle/input/massachusetts-buildings-dataset/tiff/train/23578945_15.tiff\n",
      "/kaggle/input/massachusetts-buildings-dataset/tiff/train/22978915_15.tiff\n",
      "/kaggle/input/massachusetts-buildings-dataset/tiff/train/23429125_15.tiff\n",
      "/kaggle/input/massachusetts-buildings-dataset/tiff/train/22978930_15.tiff\n",
      "/kaggle/input/massachusetts-buildings-dataset/tiff/train/23278945_15.tiff\n",
      "/kaggle/input/massachusetts-buildings-dataset/tiff/train/22678930_15.tiff\n",
      "/kaggle/input/massachusetts-buildings-dataset/tiff/train/23878930_15.tiff\n",
      "/kaggle/input/massachusetts-buildings-dataset/tiff/train/24479005_15.tiff\n",
      "/kaggle/input/massachusetts-buildings-dataset/tiff/train/22979050_15.tiff\n",
      "/kaggle/input/massachusetts-buildings-dataset/tiff/train/24329095_15.tiff\n",
      "/kaggle/input/massachusetts-buildings-dataset/tiff/train/24478840_15.tiff\n",
      "/kaggle/input/massachusetts-buildings-dataset/tiff/train/23728990_15.tiff\n",
      "/kaggle/input/massachusetts-buildings-dataset/tiff/train/24029050_15.tiff\n",
      "/kaggle/input/massachusetts-buildings-dataset/tiff/train/24179080_15.tiff\n",
      "/kaggle/input/massachusetts-buildings-dataset/tiff/train/23578990_15.tiff\n",
      "/kaggle/input/massachusetts-buildings-dataset/tiff/train/22679050_15.tiff\n",
      "/kaggle/input/massachusetts-buildings-dataset/tiff/train/24029065_15.tiff\n",
      "/kaggle/input/massachusetts-buildings-dataset/tiff/train/23428960_15.tiff\n",
      "/kaggle/input/massachusetts-buildings-dataset/tiff/train/23728960_15.tiff\n",
      "/kaggle/input/massachusetts-buildings-dataset/tiff/train/23279140_15.tiff\n",
      "/kaggle/input/massachusetts-buildings-dataset/png/val_labels/23429155_15.png\n",
      "/kaggle/input/massachusetts-buildings-dataset/png/val_labels/22978945_15.png\n",
      "/kaggle/input/massachusetts-buildings-dataset/png/val_labels/23579050_15.png\n",
      "/kaggle/input/massachusetts-buildings-dataset/png/val_labels/23728930_15.png\n",
      "/kaggle/input/massachusetts-buildings-dataset/png/test_labels/23429080_15.png\n",
      "/kaggle/input/massachusetts-buildings-dataset/png/test_labels/23429020_15.png\n",
      "/kaggle/input/massachusetts-buildings-dataset/png/test_labels/23578960_15.png\n",
      "/kaggle/input/massachusetts-buildings-dataset/png/test_labels/23879080_15.png\n",
      "/kaggle/input/massachusetts-buildings-dataset/png/test_labels/24179065_15.png\n",
      "/kaggle/input/massachusetts-buildings-dataset/png/test_labels/22828990_15.png\n",
      "/kaggle/input/massachusetts-buildings-dataset/png/test_labels/23729035_15.png\n",
      "/kaggle/input/massachusetts-buildings-dataset/png/test_labels/22828930_15.png\n",
      "/kaggle/input/massachusetts-buildings-dataset/png/test_labels/22829050_15.png\n",
      "/kaggle/input/massachusetts-buildings-dataset/png/test_labels/23579005_15.png\n",
      "/kaggle/input/massachusetts-buildings-dataset/png/val/23429155_15.png\n",
      "/kaggle/input/massachusetts-buildings-dataset/png/val/22978945_15.png\n",
      "/kaggle/input/massachusetts-buildings-dataset/png/val/23579050_15.png\n",
      "/kaggle/input/massachusetts-buildings-dataset/png/val/23728930_15.png\n",
      "/kaggle/input/massachusetts-buildings-dataset/png/train_labels/24029110_15.png\n",
      "/kaggle/input/massachusetts-buildings-dataset/png/train_labels/22979035_15.png\n",
      "/kaggle/input/massachusetts-buildings-dataset/png/train_labels/23429140_15.png\n",
      "/kaggle/input/massachusetts-buildings-dataset/png/train_labels/23579020_15.png\n",
      "/kaggle/input/massachusetts-buildings-dataset/png/train_labels/23429065_15.png\n",
      "/kaggle/input/massachusetts-buildings-dataset/png/train_labels/23278990_15.png\n",
      "/kaggle/input/massachusetts-buildings-dataset/png/train_labels/24029035_15.png\n",
      "/kaggle/input/massachusetts-buildings-dataset/png/train_labels/23128870_15.png\n",
      "/kaggle/input/massachusetts-buildings-dataset/png/train_labels/22828960_15.png\n",
      "/kaggle/input/massachusetts-buildings-dataset/png/train_labels/23129065_15.png\n",
      "/kaggle/input/massachusetts-buildings-dataset/png/train_labels/23428990_15.png\n",
      "/kaggle/input/massachusetts-buildings-dataset/png/train_labels/22678945_15.png\n",
      "/kaggle/input/massachusetts-buildings-dataset/png/train_labels/23278960_15.png\n",
      "/kaggle/input/massachusetts-buildings-dataset/png/train_labels/23578945_15.png\n",
      "/kaggle/input/massachusetts-buildings-dataset/png/train_labels/23279155_15.png\n",
      "/kaggle/input/massachusetts-buildings-dataset/png/train_labels/23278945_15.png\n",
      "/kaggle/input/massachusetts-buildings-dataset/png/train_labels/23128915_15.png\n",
      "/kaggle/input/massachusetts-buildings-dataset/png/train_labels/23879110_15.png\n",
      "/kaggle/input/massachusetts-buildings-dataset/png/train_labels/24329035_15.png\n",
      "/kaggle/input/massachusetts-buildings-dataset/png/train_labels/23729020_15.png\n",
      "/kaggle/input/massachusetts-buildings-dataset/png/train_labels/24179050_15.png\n",
      "/kaggle/input/massachusetts-buildings-dataset/png/train_labels/23729095_15.png\n",
      "/kaggle/input/massachusetts-buildings-dataset/png/train_labels/22828915_15.png\n",
      "/kaggle/input/massachusetts-buildings-dataset/png/train_labels/23579125_15.png\n",
      "/kaggle/input/massachusetts-buildings-dataset/png/train_labels/23279095_15.png\n",
      "/kaggle/input/massachusetts-buildings-dataset/png/train_labels/23279140_15.png\n",
      "/kaggle/input/massachusetts-buildings-dataset/png/train_labels/23728990_15.png\n",
      "/kaggle/input/massachusetts-buildings-dataset/png/train_labels/23729080_15.png\n",
      "/kaggle/input/massachusetts-buildings-dataset/png/train_labels/24029080_15.png\n",
      "/kaggle/input/massachusetts-buildings-dataset/png/train_labels/23429170_15.png\n",
      "/kaggle/input/massachusetts-buildings-dataset/png/train_labels/23279005_15.png\n",
      "/kaggle/input/massachusetts-buildings-dataset/png/train_labels/22678975_15.png\n",
      "/kaggle/input/massachusetts-buildings-dataset/png/train_labels/23729005_15.png\n",
      "/kaggle/input/massachusetts-buildings-dataset/png/train_labels/23879065_15.png\n",
      "/kaggle/input/massachusetts-buildings-dataset/png/train_labels/23578930_15.png\n",
      "/kaggle/input/massachusetts-buildings-dataset/png/train_labels/23878945_15.png\n",
      "/kaggle/input/massachusetts-buildings-dataset/png/train_labels/24328855_15.png\n",
      "/kaggle/input/massachusetts-buildings-dataset/png/train_labels/22829005_15.png\n",
      "/kaggle/input/massachusetts-buildings-dataset/png/train_labels/24479005_15.png\n",
      "/kaggle/input/massachusetts-buildings-dataset/png/train_labels/23128990_15.png\n",
      "/kaggle/input/massachusetts-buildings-dataset/png/train_labels/22679035_15.png\n",
      "/kaggle/input/massachusetts-buildings-dataset/png/train_labels/23278900_15.png\n",
      "/kaggle/input/massachusetts-buildings-dataset/png/train_labels/23579140_15.png\n",
      "/kaggle/input/massachusetts-buildings-dataset/png/train_labels/22978930_15.png\n",
      "/kaggle/input/massachusetts-buildings-dataset/png/train_labels/23279050_15.png\n",
      "/kaggle/input/massachusetts-buildings-dataset/png/train_labels/24478885_15.png\n",
      "/kaggle/input/massachusetts-buildings-dataset/png/train_labels/22679005_15.png\n",
      "/kaggle/input/massachusetts-buildings-dataset/png/train_labels/23129170_15.png\n",
      "/kaggle/input/massachusetts-buildings-dataset/png/train_labels/23279035_15.png\n",
      "/kaggle/input/massachusetts-buildings-dataset/png/train_labels/23879035_15.png\n",
      "/kaggle/input/massachusetts-buildings-dataset/png/train_labels/24478870_15.png\n",
      "/kaggle/input/massachusetts-buildings-dataset/png/train_labels/23128945_15.png\n",
      "/kaggle/input/massachusetts-buildings-dataset/png/train_labels/23128885_15.png\n",
      "/kaggle/input/massachusetts-buildings-dataset/png/train_labels/23579080_15.png\n",
      "/kaggle/input/massachusetts-buildings-dataset/png/train_labels/24329020_15.png\n",
      "/kaggle/input/massachusetts-buildings-dataset/png/train_labels/23728945_15.png\n",
      "/kaggle/input/massachusetts-buildings-dataset/png/train_labels/22978915_15.png\n",
      "/kaggle/input/massachusetts-buildings-dataset/png/train_labels/24179020_15.png\n",
      "/kaggle/input/massachusetts-buildings-dataset/png/train_labels/23428960_15.png\n",
      "/kaggle/input/massachusetts-buildings-dataset/png/train_labels/22979005_15.png\n",
      "/kaggle/input/massachusetts-buildings-dataset/png/train_labels/23578915_15.png\n",
      "/kaggle/input/massachusetts-buildings-dataset/png/train_labels/22979065_15.png\n",
      "/kaggle/input/massachusetts-buildings-dataset/png/train_labels/22978900_15.png\n",
      "/kaggle/input/massachusetts-buildings-dataset/png/train_labels/23879020_15.png\n",
      "/kaggle/input/massachusetts-buildings-dataset/png/train_labels/23428900_15.png\n",
      "/kaggle/input/massachusetts-buildings-dataset/png/train_labels/23429050_15.png\n",
      "/kaggle/input/massachusetts-buildings-dataset/png/train_labels/23729065_15.png\n",
      "/kaggle/input/massachusetts-buildings-dataset/png/train_labels/22978870_15.png\n",
      "/kaggle/input/massachusetts-buildings-dataset/png/train_labels/24478900_15.png\n",
      "/kaggle/input/massachusetts-buildings-dataset/png/train_labels/22979020_15.png\n",
      "/kaggle/input/massachusetts-buildings-dataset/png/train_labels/24328840_15.png\n",
      "/kaggle/input/massachusetts-buildings-dataset/png/train_labels/23578990_15.png\n",
      "/kaggle/input/massachusetts-buildings-dataset/png/train_labels/23729110_15.png\n",
      "/kaggle/input/massachusetts-buildings-dataset/png/train_labels/24328870_15.png\n",
      "/kaggle/input/massachusetts-buildings-dataset/png/train_labels/23128900_15.png\n",
      "/kaggle/input/massachusetts-buildings-dataset/png/train_labels/24329095_15.png\n",
      "/kaggle/input/massachusetts-buildings-dataset/png/train_labels/22678915_15.png\n",
      "/kaggle/input/massachusetts-buildings-dataset/png/train_labels/23428915_15.png\n",
      "/kaggle/input/massachusetts-buildings-dataset/png/train_labels/23879095_15.png\n",
      "/kaggle/input/massachusetts-buildings-dataset/png/train_labels/23278915_15.png\n",
      "/kaggle/input/massachusetts-buildings-dataset/png/train_labels/24478855_15.png\n",
      "/kaggle/input/massachusetts-buildings-dataset/png/train_labels/23279170_15.png\n",
      "/kaggle/input/massachusetts-buildings-dataset/png/train_labels/23579110_15.png\n",
      "/kaggle/input/massachusetts-buildings-dataset/png/train_labels/23129155_15.png\n",
      "/kaggle/input/massachusetts-buildings-dataset/png/train_labels/23129005_15.png\n",
      "/kaggle/input/massachusetts-buildings-dataset/png/train_labels/23278885_15.png\n",
      "/kaggle/input/massachusetts-buildings-dataset/png/train_labels/22979050_15.png\n",
      "/kaggle/input/massachusetts-buildings-dataset/png/train_labels/23278930_15.png\n",
      "/kaggle/input/massachusetts-buildings-dataset/png/train_labels/23728960_15.png\n",
      "/kaggle/input/massachusetts-buildings-dataset/png/train_labels/24029065_15.png\n",
      "/kaggle/input/massachusetts-buildings-dataset/png/train_labels/23128960_15.png\n",
      "/kaggle/input/massachusetts-buildings-dataset/png/train_labels/23279020_15.png\n",
      "/kaggle/input/massachusetts-buildings-dataset/png/train_labels/24179035_15.png\n",
      "/kaggle/input/massachusetts-buildings-dataset/png/train_labels/22978975_15.png\n",
      "/kaggle/input/massachusetts-buildings-dataset/png/train_labels/22978960_15.png\n",
      "/kaggle/input/massachusetts-buildings-dataset/png/train_labels/23129020_15.png\n",
      "/kaggle/input/massachusetts-buildings-dataset/png/train_labels/23728840_15.png\n",
      "/kaggle/input/massachusetts-buildings-dataset/png/train_labels/23128930_15.png\n",
      "/kaggle/input/massachusetts-buildings-dataset/png/train_labels/23279080_15.png\n",
      "/kaggle/input/massachusetts-buildings-dataset/png/train_labels/23129125_15.png\n",
      "/kaggle/input/massachusetts-buildings-dataset/png/train_labels/23579035_15.png\n",
      "/kaggle/input/massachusetts-buildings-dataset/png/train_labels/23129140_15.png\n",
      "/kaggle/input/massachusetts-buildings-dataset/png/train_labels/24029050_15.png\n",
      "/kaggle/input/massachusetts-buildings-dataset/png/train_labels/23129035_15.png\n",
      "/kaggle/input/massachusetts-buildings-dataset/png/train_labels/22678990_15.png\n",
      "/kaggle/input/massachusetts-buildings-dataset/png/train_labels/23428930_15.png\n",
      "/kaggle/input/massachusetts-buildings-dataset/png/train_labels/23878975_15.png\n",
      "/kaggle/input/massachusetts-buildings-dataset/png/train_labels/23429095_15.png\n",
      "/kaggle/input/massachusetts-buildings-dataset/png/train_labels/22679050_15.png\n",
      "/kaggle/input/massachusetts-buildings-dataset/png/train_labels/23429005_15.png\n",
      "/kaggle/input/massachusetts-buildings-dataset/png/train_labels/23729050_15.png\n",
      "/kaggle/input/massachusetts-buildings-dataset/png/train_labels/22829035_15.png\n",
      "/kaggle/input/massachusetts-buildings-dataset/png/train_labels/23128975_15.png\n",
      "/kaggle/input/massachusetts-buildings-dataset/png/train_labels/24478840_15.png\n",
      "/kaggle/input/massachusetts-buildings-dataset/png/train_labels/23879050_15.png\n",
      "/kaggle/input/massachusetts-buildings-dataset/png/train_labels/23878930_15.png\n",
      "/kaggle/input/massachusetts-buildings-dataset/png/train_labels/23579065_15.png\n",
      "/kaggle/input/massachusetts-buildings-dataset/png/train_labels/24179080_15.png\n",
      "/kaggle/input/massachusetts-buildings-dataset/png/train_labels/22829020_15.png\n",
      "/kaggle/input/massachusetts-buildings-dataset/png/train_labels/23578975_15.png\n",
      "/kaggle/input/massachusetts-buildings-dataset/png/train_labels/23878915_15.png\n",
      "/kaggle/input/massachusetts-buildings-dataset/png/train_labels/22679020_15.png\n",
      "/kaggle/input/massachusetts-buildings-dataset/png/train_labels/22828945_15.png\n",
      "/kaggle/input/massachusetts-buildings-dataset/png/train_labels/23429035_15.png\n",
      "/kaggle/input/massachusetts-buildings-dataset/png/train_labels/23129050_15.png\n",
      "/kaggle/input/massachusetts-buildings-dataset/png/train_labels/22678960_15.png\n",
      "/kaggle/input/massachusetts-buildings-dataset/png/train_labels/23428945_15.png\n",
      "/kaggle/input/massachusetts-buildings-dataset/png/train_labels/22828975_15.png\n",
      "/kaggle/input/massachusetts-buildings-dataset/png/train_labels/22978990_15.png\n",
      "/kaggle/input/massachusetts-buildings-dataset/png/train_labels/23728975_15.png\n",
      "/kaggle/input/massachusetts-buildings-dataset/png/train_labels/23428975_15.png\n",
      "/kaggle/input/massachusetts-buildings-dataset/png/train_labels/23878990_15.png\n",
      "/kaggle/input/massachusetts-buildings-dataset/png/train_labels/23579095_15.png\n",
      "/kaggle/input/massachusetts-buildings-dataset/png/train_labels/22678930_15.png\n",
      "/kaggle/input/massachusetts-buildings-dataset/png/train_labels/23278975_15.png\n",
      "/kaggle/input/massachusetts-buildings-dataset/png/train_labels/23429125_15.png\n",
      "/kaggle/input/massachusetts-buildings-dataset/png/train_labels/22978885_15.png\n",
      "/kaggle/input/massachusetts-buildings-dataset/png/test/23429080_15.png\n",
      "/kaggle/input/massachusetts-buildings-dataset/png/test/23429020_15.png\n",
      "/kaggle/input/massachusetts-buildings-dataset/png/test/23578960_15.png\n",
      "/kaggle/input/massachusetts-buildings-dataset/png/test/23879080_15.png\n",
      "/kaggle/input/massachusetts-buildings-dataset/png/test/24179065_15.png\n",
      "/kaggle/input/massachusetts-buildings-dataset/png/test/22828990_15.png\n",
      "/kaggle/input/massachusetts-buildings-dataset/png/test/23729035_15.png\n",
      "/kaggle/input/massachusetts-buildings-dataset/png/test/22828930_15.png\n",
      "/kaggle/input/massachusetts-buildings-dataset/png/test/22829050_15.png\n",
      "/kaggle/input/massachusetts-buildings-dataset/png/test/23579005_15.png\n",
      "/kaggle/input/massachusetts-buildings-dataset/png/train/24029110_15.png\n",
      "/kaggle/input/massachusetts-buildings-dataset/png/train/22979035_15.png\n",
      "/kaggle/input/massachusetts-buildings-dataset/png/train/23429140_15.png\n",
      "/kaggle/input/massachusetts-buildings-dataset/png/train/23579020_15.png\n",
      "/kaggle/input/massachusetts-buildings-dataset/png/train/23429065_15.png\n",
      "/kaggle/input/massachusetts-buildings-dataset/png/train/23278990_15.png\n",
      "/kaggle/input/massachusetts-buildings-dataset/png/train/24029035_15.png\n",
      "/kaggle/input/massachusetts-buildings-dataset/png/train/23128870_15.png\n",
      "/kaggle/input/massachusetts-buildings-dataset/png/train/22828960_15.png\n",
      "/kaggle/input/massachusetts-buildings-dataset/png/train/23129065_15.png\n",
      "/kaggle/input/massachusetts-buildings-dataset/png/train/23428990_15.png\n",
      "/kaggle/input/massachusetts-buildings-dataset/png/train/22678945_15.png\n",
      "/kaggle/input/massachusetts-buildings-dataset/png/train/23278960_15.png\n",
      "/kaggle/input/massachusetts-buildings-dataset/png/train/23578945_15.png\n",
      "/kaggle/input/massachusetts-buildings-dataset/png/train/23279155_15.png\n",
      "/kaggle/input/massachusetts-buildings-dataset/png/train/23278945_15.png\n",
      "/kaggle/input/massachusetts-buildings-dataset/png/train/23128915_15.png\n",
      "/kaggle/input/massachusetts-buildings-dataset/png/train/23879110_15.png\n",
      "/kaggle/input/massachusetts-buildings-dataset/png/train/24329035_15.png\n",
      "/kaggle/input/massachusetts-buildings-dataset/png/train/23729020_15.png\n",
      "/kaggle/input/massachusetts-buildings-dataset/png/train/24179050_15.png\n",
      "/kaggle/input/massachusetts-buildings-dataset/png/train/23729095_15.png\n",
      "/kaggle/input/massachusetts-buildings-dataset/png/train/22828915_15.png\n",
      "/kaggle/input/massachusetts-buildings-dataset/png/train/23579125_15.png\n",
      "/kaggle/input/massachusetts-buildings-dataset/png/train/23279095_15.png\n",
      "/kaggle/input/massachusetts-buildings-dataset/png/train/23279140_15.png\n",
      "/kaggle/input/massachusetts-buildings-dataset/png/train/23728990_15.png\n",
      "/kaggle/input/massachusetts-buildings-dataset/png/train/23729080_15.png\n",
      "/kaggle/input/massachusetts-buildings-dataset/png/train/24029080_15.png\n",
      "/kaggle/input/massachusetts-buildings-dataset/png/train/23429170_15.png\n",
      "/kaggle/input/massachusetts-buildings-dataset/png/train/23279005_15.png\n",
      "/kaggle/input/massachusetts-buildings-dataset/png/train/22678975_15.png\n",
      "/kaggle/input/massachusetts-buildings-dataset/png/train/23729005_15.png\n",
      "/kaggle/input/massachusetts-buildings-dataset/png/train/23879065_15.png\n",
      "/kaggle/input/massachusetts-buildings-dataset/png/train/23578930_15.png\n",
      "/kaggle/input/massachusetts-buildings-dataset/png/train/23878945_15.png\n",
      "/kaggle/input/massachusetts-buildings-dataset/png/train/24328855_15.png\n",
      "/kaggle/input/massachusetts-buildings-dataset/png/train/22829005_15.png\n",
      "/kaggle/input/massachusetts-buildings-dataset/png/train/24479005_15.png\n",
      "/kaggle/input/massachusetts-buildings-dataset/png/train/23128990_15.png\n",
      "/kaggle/input/massachusetts-buildings-dataset/png/train/22679035_15.png\n",
      "/kaggle/input/massachusetts-buildings-dataset/png/train/23278900_15.png\n",
      "/kaggle/input/massachusetts-buildings-dataset/png/train/23579140_15.png\n",
      "/kaggle/input/massachusetts-buildings-dataset/png/train/22978930_15.png\n",
      "/kaggle/input/massachusetts-buildings-dataset/png/train/23279050_15.png\n",
      "/kaggle/input/massachusetts-buildings-dataset/png/train/24478885_15.png\n",
      "/kaggle/input/massachusetts-buildings-dataset/png/train/22679005_15.png\n",
      "/kaggle/input/massachusetts-buildings-dataset/png/train/23129170_15.png\n",
      "/kaggle/input/massachusetts-buildings-dataset/png/train/23279035_15.png\n",
      "/kaggle/input/massachusetts-buildings-dataset/png/train/23879035_15.png\n",
      "/kaggle/input/massachusetts-buildings-dataset/png/train/24478870_15.png\n",
      "/kaggle/input/massachusetts-buildings-dataset/png/train/23128945_15.png\n",
      "/kaggle/input/massachusetts-buildings-dataset/png/train/23128885_15.png\n",
      "/kaggle/input/massachusetts-buildings-dataset/png/train/23579080_15.png\n",
      "/kaggle/input/massachusetts-buildings-dataset/png/train/24329020_15.png\n",
      "/kaggle/input/massachusetts-buildings-dataset/png/train/23728945_15.png\n",
      "/kaggle/input/massachusetts-buildings-dataset/png/train/22978915_15.png\n",
      "/kaggle/input/massachusetts-buildings-dataset/png/train/24179020_15.png\n",
      "/kaggle/input/massachusetts-buildings-dataset/png/train/23428960_15.png\n",
      "/kaggle/input/massachusetts-buildings-dataset/png/train/22979005_15.png\n",
      "/kaggle/input/massachusetts-buildings-dataset/png/train/23578915_15.png\n",
      "/kaggle/input/massachusetts-buildings-dataset/png/train/22979065_15.png\n",
      "/kaggle/input/massachusetts-buildings-dataset/png/train/22978900_15.png\n",
      "/kaggle/input/massachusetts-buildings-dataset/png/train/23879020_15.png\n",
      "/kaggle/input/massachusetts-buildings-dataset/png/train/23428900_15.png\n",
      "/kaggle/input/massachusetts-buildings-dataset/png/train/23429050_15.png\n",
      "/kaggle/input/massachusetts-buildings-dataset/png/train/23729065_15.png\n",
      "/kaggle/input/massachusetts-buildings-dataset/png/train/22978870_15.png\n",
      "/kaggle/input/massachusetts-buildings-dataset/png/train/24478900_15.png\n",
      "/kaggle/input/massachusetts-buildings-dataset/png/train/22979020_15.png\n",
      "/kaggle/input/massachusetts-buildings-dataset/png/train/24328840_15.png\n",
      "/kaggle/input/massachusetts-buildings-dataset/png/train/23578990_15.png\n",
      "/kaggle/input/massachusetts-buildings-dataset/png/train/23729110_15.png\n",
      "/kaggle/input/massachusetts-buildings-dataset/png/train/24328870_15.png\n",
      "/kaggle/input/massachusetts-buildings-dataset/png/train/23128900_15.png\n",
      "/kaggle/input/massachusetts-buildings-dataset/png/train/24329095_15.png\n",
      "/kaggle/input/massachusetts-buildings-dataset/png/train/22678915_15.png\n",
      "/kaggle/input/massachusetts-buildings-dataset/png/train/23428915_15.png\n",
      "/kaggle/input/massachusetts-buildings-dataset/png/train/23879095_15.png\n",
      "/kaggle/input/massachusetts-buildings-dataset/png/train/23278915_15.png\n",
      "/kaggle/input/massachusetts-buildings-dataset/png/train/24478855_15.png\n",
      "/kaggle/input/massachusetts-buildings-dataset/png/train/23279170_15.png\n",
      "/kaggle/input/massachusetts-buildings-dataset/png/train/23579110_15.png\n",
      "/kaggle/input/massachusetts-buildings-dataset/png/train/23129155_15.png\n",
      "/kaggle/input/massachusetts-buildings-dataset/png/train/23129005_15.png\n",
      "/kaggle/input/massachusetts-buildings-dataset/png/train/23278885_15.png\n",
      "/kaggle/input/massachusetts-buildings-dataset/png/train/22979050_15.png\n",
      "/kaggle/input/massachusetts-buildings-dataset/png/train/23278930_15.png\n",
      "/kaggle/input/massachusetts-buildings-dataset/png/train/23728960_15.png\n",
      "/kaggle/input/massachusetts-buildings-dataset/png/train/24029065_15.png\n",
      "/kaggle/input/massachusetts-buildings-dataset/png/train/23128960_15.png\n",
      "/kaggle/input/massachusetts-buildings-dataset/png/train/23279020_15.png\n",
      "/kaggle/input/massachusetts-buildings-dataset/png/train/24179035_15.png\n",
      "/kaggle/input/massachusetts-buildings-dataset/png/train/22978975_15.png\n",
      "/kaggle/input/massachusetts-buildings-dataset/png/train/22978960_15.png\n",
      "/kaggle/input/massachusetts-buildings-dataset/png/train/23129020_15.png\n",
      "/kaggle/input/massachusetts-buildings-dataset/png/train/23728840_15.png\n",
      "/kaggle/input/massachusetts-buildings-dataset/png/train/23128930_15.png\n",
      "/kaggle/input/massachusetts-buildings-dataset/png/train/23279080_15.png\n",
      "/kaggle/input/massachusetts-buildings-dataset/png/train/23129125_15.png\n",
      "/kaggle/input/massachusetts-buildings-dataset/png/train/23579035_15.png\n",
      "/kaggle/input/massachusetts-buildings-dataset/png/train/23129140_15.png\n",
      "/kaggle/input/massachusetts-buildings-dataset/png/train/24029050_15.png\n",
      "/kaggle/input/massachusetts-buildings-dataset/png/train/23129035_15.png\n",
      "/kaggle/input/massachusetts-buildings-dataset/png/train/22678990_15.png\n",
      "/kaggle/input/massachusetts-buildings-dataset/png/train/23428930_15.png\n",
      "/kaggle/input/massachusetts-buildings-dataset/png/train/23878975_15.png\n",
      "/kaggle/input/massachusetts-buildings-dataset/png/train/23429095_15.png\n",
      "/kaggle/input/massachusetts-buildings-dataset/png/train/22679050_15.png\n",
      "/kaggle/input/massachusetts-buildings-dataset/png/train/23429005_15.png\n",
      "/kaggle/input/massachusetts-buildings-dataset/png/train/23729050_15.png\n",
      "/kaggle/input/massachusetts-buildings-dataset/png/train/22829035_15.png\n",
      "/kaggle/input/massachusetts-buildings-dataset/png/train/23128975_15.png\n",
      "/kaggle/input/massachusetts-buildings-dataset/png/train/24478840_15.png\n",
      "/kaggle/input/massachusetts-buildings-dataset/png/train/23879050_15.png\n",
      "/kaggle/input/massachusetts-buildings-dataset/png/train/23878930_15.png\n",
      "/kaggle/input/massachusetts-buildings-dataset/png/train/23579065_15.png\n",
      "/kaggle/input/massachusetts-buildings-dataset/png/train/24179080_15.png\n",
      "/kaggle/input/massachusetts-buildings-dataset/png/train/22829020_15.png\n",
      "/kaggle/input/massachusetts-buildings-dataset/png/train/23578975_15.png\n",
      "/kaggle/input/massachusetts-buildings-dataset/png/train/23878915_15.png\n",
      "/kaggle/input/massachusetts-buildings-dataset/png/train/22679020_15.png\n",
      "/kaggle/input/massachusetts-buildings-dataset/png/train/22828945_15.png\n",
      "/kaggle/input/massachusetts-buildings-dataset/png/train/23429035_15.png\n",
      "/kaggle/input/massachusetts-buildings-dataset/png/train/23129050_15.png\n",
      "/kaggle/input/massachusetts-buildings-dataset/png/train/22678960_15.png\n",
      "/kaggle/input/massachusetts-buildings-dataset/png/train/23428945_15.png\n",
      "/kaggle/input/massachusetts-buildings-dataset/png/train/22828975_15.png\n",
      "/kaggle/input/massachusetts-buildings-dataset/png/train/22978990_15.png\n",
      "/kaggle/input/massachusetts-buildings-dataset/png/train/23728975_15.png\n",
      "/kaggle/input/massachusetts-buildings-dataset/png/train/23428975_15.png\n",
      "/kaggle/input/massachusetts-buildings-dataset/png/train/23878990_15.png\n",
      "/kaggle/input/massachusetts-buildings-dataset/png/train/23579095_15.png\n",
      "/kaggle/input/massachusetts-buildings-dataset/png/train/22678930_15.png\n",
      "/kaggle/input/massachusetts-buildings-dataset/png/train/23278975_15.png\n",
      "/kaggle/input/massachusetts-buildings-dataset/png/train/23429125_15.png\n",
      "/kaggle/input/massachusetts-buildings-dataset/png/train/22978885_15.png\n",
      "/kaggle/input/washington-buildingsubset/OUTPUT_1_1.png\n",
      "/kaggle/input/washington-buildingsubset/OUTPUT_2_4.png\n",
      "/kaggle/input/washington-buildingsubset/OUTPUT_2_2.png\n",
      "/kaggle/input/washington-buildingsubset/OUTPUT_1_4.png\n",
      "/kaggle/input/washington-buildingsubset/OUTPUT_2_1.png\n",
      "/kaggle/input/washington-buildingsubset/OUTPUT_2_3.png\n",
      "/kaggle/input/washington-buildingsubset/OUTPUT_1_2.png\n",
      "/kaggle/input/washington-buildingsubset/OUTPUT_1_3.png\n",
      "/kaggle/input/sat-images/1_3.jpg\n",
      "/kaggle/input/sat-images/2_3.jpg\n",
      "/kaggle/input/sat-images/2_4.jpg\n",
      "/kaggle/input/sat-images/1_4.jpg\n",
      "/kaggle/input/sat-images/2_2.jpg\n",
      "/kaggle/input/sat-images/1_1.jpg\n",
      "/kaggle/input/sat-images/1_2.jpg\n",
      "/kaggle/input/sat-images/2_1.jpg\n"
     ]
    }
   ],
   "source": [
    "# This Python 3 environment comes with many helpful analytics libraries installed\n",
    "# It is defined by the kaggle/python Docker image: https://github.com/kaggle/docker-python\n",
    "# For example, here's several helpful packages to load\n",
    "\n",
    "import numpy as np # linear algebra\n",
    "import pandas as pd # data processing, CSV file I/O (e.g. pd.read_csv)\n",
    "\n",
    "# Input data files are available in the read-only \"../input/\" directory\n",
    "# For example, running this (by clicking run or pressing Shift+Enter) will list all files under the input directory\n",
    "\n",
    "import os\n",
    "for dirname, _, filenames in os.walk('/kaggle/input'):\n",
    "    for filename in filenames:\n",
    "        print(os.path.join(dirname, filename))\n",
    "\n",
    "# You can write up to 20GB to the current directory (/kaggle/working/) that gets preserved as output when you create a version using \"Save & Run All\" \n",
    "# You can also write temporary files to /kaggle/temp/, but they won't be saved outside of the current session"
   ]
  },
  {
   "cell_type": "code",
   "execution_count": 2,
   "metadata": {
    "execution": {
     "iopub.execute_input": "2025-03-31T20:36:59.173225Z",
     "iopub.status.busy": "2025-03-31T20:36:59.172770Z",
     "iopub.status.idle": "2025-03-31T20:37:25.156710Z",
     "shell.execute_reply": "2025-03-31T20:37:25.156044Z",
     "shell.execute_reply.started": "2025-03-31T20:36:59.173201Z"
    },
    "trusted": true
   },
   "outputs": [],
   "source": [
    "import os\n",
    "import cv2\n",
    "import numpy as np\n",
    "import pandas as pd\n",
    "import random\n",
    "from tqdm import tqdm\n",
    "import seaborn as sns\n",
    "import matplotlib.pyplot as plt\n",
    "\n",
    "import warnings\n",
    "warnings.filterwarnings(\"ignore\")\n",
    "!pip install -q -U segmentation-models-pytorch albumentations > /dev/null\n",
    "import segmentation_models_pytorch as smp\n",
    "import segmentation_models_pytorch.utils\n",
    "import torch\n",
    "import torch.nn as nn\n",
    "from torch.utils.data import DataLoader, Dataset\n",
    "import albumentations as album\n",
    "import segmentation_models_pytorch as smp"
   ]
  },
  {
   "cell_type": "code",
   "execution_count": 3,
   "metadata": {
    "execution": {
     "iopub.execute_input": "2025-03-31T20:37:25.158258Z",
     "iopub.status.busy": "2025-03-31T20:37:25.157965Z",
     "iopub.status.idle": "2025-03-31T20:37:25.162137Z",
     "shell.execute_reply": "2025-03-31T20:37:25.161537Z",
     "shell.execute_reply.started": "2025-03-31T20:37:25.158235Z"
    },
    "trusted": true
   },
   "outputs": [],
   "source": [
    "DATA_DIR = '/kaggle/input/massachusetts-buildings-dataset/png'\n",
    "\n",
    "x_train_dir = os.path.join(DATA_DIR, 'train')\n",
    "y_train_dir = os.path.join(DATA_DIR, 'train_labels')\n",
    "\n",
    "x_valid_dir = os.path.join(DATA_DIR, 'val')\n",
    "y_valid_dir = os.path.join(DATA_DIR, 'val_labels')\n",
    "\n",
    "x_test_dir = os.path.join(DATA_DIR, 'test')\n",
    "y_test_dir = os.path.join(DATA_DIR, 'test_labels')"
   ]
  },
  {
   "cell_type": "code",
   "execution_count": 4,
   "metadata": {
    "execution": {
     "iopub.execute_input": "2025-03-31T20:37:25.163714Z",
     "iopub.status.busy": "2025-03-31T20:37:25.163531Z",
     "iopub.status.idle": "2025-03-31T20:37:25.224028Z",
     "shell.execute_reply": "2025-03-31T20:37:25.223460Z",
     "shell.execute_reply.started": "2025-03-31T20:37:25.163697Z"
    },
    "trusted": true
   },
   "outputs": [],
   "source": [
    "class_dict = pd.read_csv(\"../input/massachusetts-buildings-dataset/label_class_dict.csv\")\n",
    "class_names = class_dict['name'].tolist()\n",
    "class_rgb_values = class_dict[['r', 'g', 'b']].values.tolist()"
   ]
  },
  {
   "cell_type": "code",
   "execution_count": 5,
   "metadata": {
    "execution": {
     "iopub.execute_input": "2025-03-31T20:37:25.225103Z",
     "iopub.status.busy": "2025-03-31T20:37:25.224790Z",
     "iopub.status.idle": "2025-03-31T20:37:25.228748Z",
     "shell.execute_reply": "2025-03-31T20:37:25.227967Z",
     "shell.execute_reply.started": "2025-03-31T20:37:25.225075Z"
    },
    "trusted": true
   },
   "outputs": [],
   "source": [
    "select_classes = ['background', 'building']\n",
    "select_class_indices = [class_names.index(cls.lower()) for cls in select_classes]\n",
    "select_class_rgb_values = np.array(class_rgb_values)[select_class_indices]"
   ]
  },
  {
   "cell_type": "code",
   "execution_count": 6,
   "metadata": {
    "execution": {
     "iopub.execute_input": "2025-03-31T20:37:25.229779Z",
     "iopub.status.busy": "2025-03-31T20:37:25.229584Z",
     "iopub.status.idle": "2025-03-31T20:37:25.255828Z",
     "shell.execute_reply": "2025-03-31T20:37:25.255229Z",
     "shell.execute_reply.started": "2025-03-31T20:37:25.229762Z"
    },
    "trusted": true
   },
   "outputs": [],
   "source": [
    "def visualize(**images):\n",
    "    n_images = len(images)\n",
    "    plt.figure(figsize=(20, 8))\n",
    "    for idx, (name, image) in enumerate(images.items()):\n",
    "        plt.subplot(1, n_images, idx + 1)\n",
    "        plt.xticks([])\n",
    "        plt.yticks([])\n",
    "        plt.title(name.replace('_', ' ').title(), fontsize=20)\n",
    "        plt.imshow(image)\n",
    "    plt.show()\n",
    "\n",
    "def one_hot_encode(label, label_values):\n",
    "    semantic_map = []\n",
    "    for colour in label_values:\n",
    "        equality = np.equal(label, colour)\n",
    "        class_map = np.all(equality, axis=-1)\n",
    "        semantic_map.append(class_map)\n",
    "    semantic_map = np.stack(semantic_map, axis=-1)\n",
    "    return semantic_map\n",
    "\n",
    "def reverse_one_hot(image):\n",
    "    x = np.argmax(image, axis=-1)\n",
    "    return x\n",
    "\n",
    "def colour_code_segmentation(image, label_values):\n",
    "    colour_codes = np.array(label_values)\n",
    "    x = colour_codes[image.astype(int)]\n",
    "    return x"
   ]
  },
  {
   "cell_type": "code",
   "execution_count": 7,
   "metadata": {
    "execution": {
     "iopub.execute_input": "2025-03-31T20:37:25.256674Z",
     "iopub.status.busy": "2025-03-31T20:37:25.256434Z",
     "iopub.status.idle": "2025-03-31T20:37:25.275455Z",
     "shell.execute_reply": "2025-03-31T20:37:25.274693Z",
     "shell.execute_reply.started": "2025-03-31T20:37:25.256655Z"
    },
    "trusted": true
   },
   "outputs": [],
   "source": [
    "class BuildingsDataset(Dataset):\n",
    "    def __init__(self, images_dir, masks_dir, class_rgb_values=None, augmentation=None, preprocessing=None):\n",
    "        self.image_paths = [os.path.join(images_dir, image_id) for image_id in sorted(os.listdir(images_dir))]\n",
    "        self.mask_paths = [os.path.join(masks_dir, image_id) for image_id in sorted(os.listdir(masks_dir))]\n",
    "        self.class_rgb_values = class_rgb_values\n",
    "        self.augmentation = augmentation\n",
    "        self.preprocessing = preprocessing\n",
    "    \n",
    "    def __getitem__(self, i):\n",
    "        image = cv2.cvtColor(cv2.imread(self.image_paths[i]), cv2.COLOR_BGR2RGB)\n",
    "        mask = cv2.cvtColor(cv2.imread(self.mask_paths[i]), cv2.COLOR_BGR2RGB)\n",
    "        mask = one_hot_encode(mask, self.class_rgb_values).astype('float')\n",
    "        if self.augmentation:\n",
    "            sample = self.augmentation(image=image, mask=mask)\n",
    "            image, mask = sample['image'], sample['mask']\n",
    "        if self.preprocessing:\n",
    "            sample = self.preprocessing(image=image, mask=mask)\n",
    "            image, mask = sample['image'], sample['mask']\n",
    "        return image, mask\n",
    "    \n",
    "    def __len__(self):\n",
    "        return len(self.image_paths)"
   ]
  },
  {
   "cell_type": "code",
   "execution_count": 8,
   "metadata": {
    "execution": {
     "iopub.execute_input": "2025-03-31T20:37:25.276547Z",
     "iopub.status.busy": "2025-03-31T20:37:25.276272Z",
     "iopub.status.idle": "2025-03-31T20:37:25.300463Z",
     "shell.execute_reply": "2025-03-31T20:37:25.299725Z",
     "shell.execute_reply.started": "2025-03-31T20:37:25.276517Z"
    },
    "trusted": true
   },
   "outputs": [],
   "source": [
    "def get_training_augmentation():\n",
    "    train_transform = [    \n",
    "        album.RandomCrop(height=256, width=256, always_apply=True),\n",
    "        album.OneOf([\n",
    "            album.HorizontalFlip(p=1),\n",
    "            album.VerticalFlip(p=1),\n",
    "            album.RandomRotate90(p=1),\n",
    "        ], p=0.75),\n",
    "    ]\n",
    "    return album.Compose(train_transform)\n",
    "\n",
    "def get_validation_augmentation():\n",
    "    test_transform = [\n",
    "        album.PadIfNeeded(min_height=1536, min_width=1536, always_apply=True, border_mode=cv2.BORDER_CONSTANT, value=[0, 0, 0]),\n",
    "    ]\n",
    "    return album.Compose(test_transform)\n",
    "\n",
    "def to_tensor(x, **kwargs):\n",
    "    return x.transpose(2, 0, 1).astype('float32')\n",
    "\n",
    "def get_preprocessing(preprocessing_fn=None):\n",
    "    _transform = []\n",
    "    if preprocessing_fn:\n",
    "        _transform.append(album.Lambda(image=preprocessing_fn))\n",
    "    _transform.append(album.Lambda(image=to_tensor, mask=to_tensor))\n",
    "    return album.Compose(_transform)\n"
   ]
  },
  {
   "cell_type": "code",
   "execution_count": 9,
   "metadata": {
    "execution": {
     "iopub.execute_input": "2025-03-31T20:37:25.302930Z",
     "iopub.status.busy": "2025-03-31T20:37:25.302686Z",
     "iopub.status.idle": "2025-03-31T20:37:25.322873Z",
     "shell.execute_reply": "2025-03-31T20:37:25.322288Z",
     "shell.execute_reply.started": "2025-03-31T20:37:25.302905Z"
    },
    "trusted": true
   },
   "outputs": [],
   "source": [
    "import torch\n",
    "import torch.nn as nn\n",
    "import torch.nn.functional as F\n",
    "\n",
    "class ECBA(nn.Module):\n",
    "    \"\"\"\n",
    "    Example channel-attention block using an ECA-like mechanism.\n",
    "    \"\"\"\n",
    "    def __init__(self, channels, k_size=3):\n",
    "        super(ECBA, self).__init__()\n",
    "        self.avg_pool = nn.AdaptiveAvgPool2d(1)    # shape: (B, C, 1, 1)\n",
    "        self.conv = nn.Conv1d(\n",
    "            in_channels=1, \n",
    "            out_channels=1, \n",
    "            kernel_size=k_size, \n",
    "            padding=(k_size - 1) // 2, \n",
    "            bias=False\n",
    "        )\n",
    "        self.sigmoid = nn.Sigmoid()\n",
    "\n",
    "    def forward(self, x):\n",
    "        y = self.avg_pool(x)                      # shape: (B, C, 1, 1)\n",
    "        y = y.squeeze(-1).permute(0, 2, 1)        # shape: (B, 1, C)\n",
    "        y = self.conv(y)                          # shape: (B, 1, C)\n",
    "        y = y.permute(0, 2, 1).unsqueeze(-1)      # shape: (B, C, 1, 1)\n",
    "        y = self.sigmoid(y)\n",
    "        return x * y.expand_as(x)\n",
    "\n",
    "class DoubleConvECBA(nn.Module):\n",
    "    \"\"\"\n",
    "    A double-conv block that integrates the ECBA attention after each convolution.\n",
    "    \"\"\"\n",
    "    def __init__(self, in_channels, out_channels):\n",
    "        super(DoubleConvECBA, self).__init__()\n",
    "        \n",
    "        self.conv1 = nn.Conv2d(in_channels, out_channels, kernel_size=3, padding=1)\n",
    "        self.bn1   = nn.BatchNorm2d(out_channels)\n",
    "        self.relu1 = nn.ReLU(inplace=True)\n",
    "        self.ecba1 = ECBA(out_channels)  \n",
    "\n",
    "        self.conv2 = nn.Conv2d(out_channels, out_channels, kernel_size=3, padding=1)\n",
    "        self.bn2   = nn.BatchNorm2d(out_channels)\n",
    "        self.relu2 = nn.ReLU(inplace=True)\n",
    "        self.ecba2 = ECBA(out_channels)  \n",
    "\n",
    "    def forward(self, x):\n",
    "        x = self.conv1(x)\n",
    "        x = self.bn1(x)\n",
    "        x = self.relu1(x)\n",
    "        x = self.ecba1(x)\n",
    "\n",
    "        x = self.conv2(x)\n",
    "        x = self.bn2(x)\n",
    "        x = self.relu2(x)\n",
    "        x = self.ecba2(x)\n",
    "        \n",
    "        return x\n",
    "\n",
    "class DownBlock(nn.Module):\n",
    "    def __init__(self, in_channels, out_channels):\n",
    "        super(DownBlock, self).__init__()\n",
    "        self.double_conv = DoubleConvECBA(in_channels, out_channels)\n",
    "        self.down_sample = nn.MaxPool2d(2)\n",
    "\n",
    "    def forward(self, x):\n",
    "        skip_out = self.double_conv(x)\n",
    "        down_out = self.down_sample(skip_out)\n",
    "        return down_out, skip_out\n",
    "\n",
    "class UpBlock(nn.Module):\n",
    "    def __init__(self, in_channels, out_channels, up_sample_mode):\n",
    "        super(UpBlock, self).__init__()\n",
    "        \n",
    "        if up_sample_mode == 'conv_transpose':\n",
    "            self.up_sample = nn.ConvTranspose2d(\n",
    "                in_channels - out_channels, \n",
    "                in_channels - out_channels, \n",
    "                kernel_size=2, \n",
    "                stride=2\n",
    "            )\n",
    "        elif up_sample_mode == 'bilinear':\n",
    "            self.up_sample = nn.Upsample(scale_factor=2, mode='bilinear', align_corners=True)\n",
    "        else:\n",
    "            raise ValueError(\"Unsupported `up_sample_mode` (must be `conv_transpose` or `bilinear`)\")\n",
    "\n",
    "        self.double_conv = DoubleConvECBA(in_channels, out_channels)\n",
    "\n",
    "    def forward(self, down_input, skip_input):\n",
    "        x = self.up_sample(down_input)\n",
    "        x = torch.cat([x, skip_input], dim=1)\n",
    "        x = self.double_conv(x)\n",
    "        return x\n",
    "\n",
    "class UNet_ECBA(nn.Module):\n",
    "    def __init__(self, out_classes=2, up_sample_mode='conv_transpose'):\n",
    "        super(UNet_ECBA, self).__init__()\n",
    "        self.up_sample_mode = up_sample_mode\n",
    "\n",
    "        self.down_conv1 = DownBlock(3, 64)\n",
    "        self.down_conv2 = DownBlock(64, 128)\n",
    "        self.down_conv3 = DownBlock(128, 256)\n",
    "        self.down_conv4 = DownBlock(256, 512)\n",
    "\n",
    "        self.bottleneck = DoubleConvECBA(512, 1024)\n",
    "\n",
    "        self.up_conv4 = UpBlock(512 + 1024, 512, self.up_sample_mode)\n",
    "        self.up_conv3 = UpBlock(256 + 512, 256, self.up_sample_mode)\n",
    "        self.up_conv2 = UpBlock(128 + 256, 128, self.up_sample_mode)\n",
    "        self.up_conv1 = UpBlock(64 + 128, 64, self.up_sample_mode)\n",
    "\n",
    "        self.conv_last = nn.Conv2d(64, out_classes, kernel_size=1)\n",
    "\n",
    "    def forward(self, x):\n",
    "        x, skip1_out = self.down_conv1(x)\n",
    "        x, skip2_out = self.down_conv2(x)\n",
    "        x, skip3_out = self.down_conv3(x)\n",
    "        x, skip4_out = self.down_conv4(x)\n",
    "\n",
    "        x = self.bottleneck(x)\n",
    "\n",
    "        x = self.up_conv4(x, skip4_out)\n",
    "        x = self.up_conv3(x, skip3_out)\n",
    "        x = self.up_conv2(x, skip2_out)\n",
    "        x = self.up_conv1(x, skip1_out)\n",
    "\n",
    "        x = self.conv_last(x)\n",
    "        return x\n"
   ]
  },
  {
   "cell_type": "code",
   "execution_count": 12,
   "metadata": {
    "execution": {
     "iopub.execute_input": "2025-03-31T20:37:25.366128Z",
     "iopub.status.busy": "2025-03-31T20:37:25.365941Z",
     "iopub.status.idle": "2025-03-31T20:37:25.421996Z",
     "shell.execute_reply": "2025-03-31T20:37:25.421441Z",
     "shell.execute_reply.started": "2025-03-31T20:37:25.366112Z"
    },
    "trusted": true
   },
   "outputs": [],
   "source": [
    "train_dataset = BuildingsDataset(\n",
    "    x_train_dir, y_train_dir, \n",
    "    augmentation=get_training_augmentation(),\n",
    "    preprocessing=get_preprocessing(preprocessing_fn=None),\n",
    "    class_rgb_values=select_class_rgb_values,\n",
    ")\n",
    "\n",
    "valid_dataset = BuildingsDataset(\n",
    "    x_valid_dir, y_valid_dir, \n",
    "    augmentation=get_validation_augmentation(), \n",
    "    preprocessing=get_preprocessing(preprocessing_fn=None),\n",
    "    class_rgb_values=select_class_rgb_values,\n",
    ")\n",
    "\n",
    "train_loader = DataLoader(train_dataset, batch_size=16, shuffle=True, num_workers=4)\n",
    "valid_loader = DataLoader(valid_dataset, batch_size=1, shuffle=False, num_workers=4)"
   ]
  },
  {
   "cell_type": "code",
   "execution_count": 13,
   "metadata": {
    "execution": {
     "iopub.execute_input": "2025-03-31T20:37:25.422938Z",
     "iopub.status.busy": "2025-03-31T20:37:25.422740Z",
     "iopub.status.idle": "2025-03-31T20:37:25.428172Z",
     "shell.execute_reply": "2025-03-31T20:37:25.427474Z",
     "shell.execute_reply.started": "2025-03-31T20:37:25.422911Z"
    },
    "trusted": true
   },
   "outputs": [],
   "source": [
    "class HybridLoss(nn.Module):\n",
    "    def __init__(self):\n",
    "        super(HybridLoss, self).__init__()\n",
    "        self.dice_loss = smp.losses.DiceLoss(mode='multiclass')\n",
    "        self.ce_loss = nn.CrossEntropyLoss()\n",
    "\n",
    "    def forward(self, inputs, targets):\n",
    "        targets = torch.argmax(targets, dim=1)  # Convert one-hot encoded target to class indices\n",
    "        dice_loss = self.dice_loss(inputs, targets)\n",
    "        ce_loss = self.ce_loss(inputs, targets.long())\n",
    "        return dice_loss + ce_loss\n",
    "\n",
    "# IoU metric\n",
    "import segmentation_models_pytorch as smp\n",
    "\n",
    "# Initialize the IoU metric from segmentation_models_pytorch\n",
    "iou_metric = smp.utils.metrics.IoU(threshold=0.5)\n",
    "\n",
    "# Function to calculate IoU using smp's IoU metric\n",
    "def calculate_iou(outputs: torch.Tensor, labels: torch.Tensor):\n",
    "    # Ensure outputs and labels are on the same device\n",
    "    outputs, labels = outputs.cpu(), labels.cpu()\n",
    "    \n",
    "    # Apply the smp IoU metric\n",
    "    iou_score = iou_metric(outputs, labels)\n",
    "    \n",
    "    # Return the IoU score\n",
    "    return iou_score.item()\n",
    "\n"
   ]
  },
  {
   "cell_type": "code",
   "execution_count": 15,
   "metadata": {
    "execution": {
     "iopub.execute_input": "2025-03-31T20:38:04.409204Z",
     "iopub.status.busy": "2025-03-31T20:38:04.408904Z",
     "iopub.status.idle": "2025-03-31T21:21:23.471532Z",
     "shell.execute_reply": "2025-03-31T21:21:23.470522Z",
     "shell.execute_reply.started": "2025-03-31T20:38:04.409182Z"
    },
    "trusted": true
   },
   "outputs": [
    {
     "name": "stdout",
     "output_type": "stream",
     "text": [
      "Epoch 1/100\n"
     ]
    },
    {
     "name": "stderr",
     "output_type": "stream",
     "text": [
      "100%|██████████| 9/9 [00:21<00:00,  2.34s/it]\n",
      "100%|██████████| 4/4 [00:04<00:00,  1.24s/it]\n"
     ]
    },
    {
     "name": "stdout",
     "output_type": "stream",
     "text": [
      "Train Loss: 1.2296, Train IoU: 0.0659\n",
      "Val Loss: 1.2524, Val IoU: 0.0000\n",
      "Epoch 2/100\n"
     ]
    },
    {
     "name": "stderr",
     "output_type": "stream",
     "text": [
      "100%|██████████| 9/9 [00:19<00:00,  2.22s/it]\n",
      "100%|██████████| 4/4 [00:04<00:00,  1.22s/it]\n"
     ]
    },
    {
     "name": "stdout",
     "output_type": "stream",
     "text": [
      "Train Loss: 1.0931, Train IoU: 0.2225\n",
      "Val Loss: 1.2277, Val IoU: 0.0000\n",
      "Epoch 3/100\n"
     ]
    },
    {
     "name": "stderr",
     "output_type": "stream",
     "text": [
      "100%|██████████| 9/9 [00:19<00:00,  2.19s/it]\n",
      "100%|██████████| 4/4 [00:04<00:00,  1.22s/it]\n"
     ]
    },
    {
     "name": "stdout",
     "output_type": "stream",
     "text": [
      "Train Loss: 1.0214, Train IoU: 0.3718\n",
      "Val Loss: 1.1713, Val IoU: 0.0000\n",
      "Epoch 4/100\n"
     ]
    },
    {
     "name": "stderr",
     "output_type": "stream",
     "text": [
      "100%|██████████| 9/9 [00:19<00:00,  2.17s/it]\n",
      "100%|██████████| 4/4 [00:05<00:00,  1.29s/it]\n"
     ]
    },
    {
     "name": "stdout",
     "output_type": "stream",
     "text": [
      "Train Loss: 0.9794, Train IoU: 0.4406\n",
      "Val Loss: 1.0746, Val IoU: 0.0993\n",
      "Epoch 5/100\n"
     ]
    },
    {
     "name": "stderr",
     "output_type": "stream",
     "text": [
      "100%|██████████| 9/9 [00:19<00:00,  2.16s/it]\n",
      "100%|██████████| 4/4 [00:05<00:00,  1.29s/it]\n"
     ]
    },
    {
     "name": "stdout",
     "output_type": "stream",
     "text": [
      "Train Loss: 0.9440, Train IoU: 0.4965\n",
      "Val Loss: 0.9626, Val IoU: 0.4505\n",
      "Epoch 6/100\n"
     ]
    },
    {
     "name": "stderr",
     "output_type": "stream",
     "text": [
      "100%|██████████| 9/9 [00:20<00:00,  2.31s/it]\n",
      "100%|██████████| 4/4 [00:05<00:00,  1.35s/it]\n"
     ]
    },
    {
     "name": "stdout",
     "output_type": "stream",
     "text": [
      "Train Loss: 0.9211, Train IoU: 0.5263\n",
      "Val Loss: 0.8890, Val IoU: 0.6738\n",
      "Epoch 7/100\n"
     ]
    },
    {
     "name": "stderr",
     "output_type": "stream",
     "text": [
      "100%|██████████| 9/9 [00:20<00:00,  2.26s/it]\n",
      "100%|██████████| 4/4 [00:05<00:00,  1.44s/it]\n"
     ]
    },
    {
     "name": "stdout",
     "output_type": "stream",
     "text": [
      "Train Loss: 0.9364, Train IoU: 0.5618\n",
      "Val Loss: 0.9024, Val IoU: 0.6864\n",
      "Epoch 8/100\n"
     ]
    },
    {
     "name": "stderr",
     "output_type": "stream",
     "text": [
      "100%|██████████| 9/9 [00:20<00:00,  2.28s/it]\n",
      "100%|██████████| 4/4 [00:05<00:00,  1.46s/it]\n"
     ]
    },
    {
     "name": "stdout",
     "output_type": "stream",
     "text": [
      "Train Loss: 0.9102, Train IoU: 0.5784\n",
      "Val Loss: 0.8353, Val IoU: 0.7520\n",
      "Epoch 9/100\n"
     ]
    },
    {
     "name": "stderr",
     "output_type": "stream",
     "text": [
      "100%|██████████| 9/9 [00:20<00:00,  2.28s/it]\n",
      "100%|██████████| 4/4 [00:06<00:00,  1.51s/it]\n"
     ]
    },
    {
     "name": "stdout",
     "output_type": "stream",
     "text": [
      "Train Loss: 0.8975, Train IoU: 0.5879\n",
      "Val Loss: 0.8160, Val IoU: 0.7900\n",
      "Epoch 10/100\n"
     ]
    },
    {
     "name": "stderr",
     "output_type": "stream",
     "text": [
      "100%|██████████| 9/9 [00:20<00:00,  2.24s/it]\n",
      "100%|██████████| 4/4 [00:05<00:00,  1.46s/it]\n"
     ]
    },
    {
     "name": "stdout",
     "output_type": "stream",
     "text": [
      "Train Loss: 0.8820, Train IoU: 0.6156\n",
      "Val Loss: 0.8726, Val IoU: 0.7010\n",
      "Epoch 11/100\n"
     ]
    },
    {
     "name": "stderr",
     "output_type": "stream",
     "text": [
      "100%|██████████| 9/9 [00:20<00:00,  2.27s/it]\n",
      "100%|██████████| 4/4 [00:05<00:00,  1.48s/it]\n"
     ]
    },
    {
     "name": "stdout",
     "output_type": "stream",
     "text": [
      "Train Loss: 0.8509, Train IoU: 0.6319\n",
      "Val Loss: 0.8127, Val IoU: 0.7533\n",
      "Epoch 12/100\n"
     ]
    },
    {
     "name": "stderr",
     "output_type": "stream",
     "text": [
      "100%|██████████| 9/9 [00:21<00:00,  2.34s/it]\n",
      "100%|██████████| 4/4 [00:05<00:00,  1.47s/it]\n"
     ]
    },
    {
     "name": "stdout",
     "output_type": "stream",
     "text": [
      "Train Loss: 0.8609, Train IoU: 0.6360\n",
      "Val Loss: 0.8155, Val IoU: 0.7576\n",
      "Epoch 13/100\n"
     ]
    },
    {
     "name": "stderr",
     "output_type": "stream",
     "text": [
      "100%|██████████| 9/9 [00:20<00:00,  2.32s/it]\n",
      "100%|██████████| 4/4 [00:05<00:00,  1.46s/it]\n"
     ]
    },
    {
     "name": "stdout",
     "output_type": "stream",
     "text": [
      "Train Loss: 0.8522, Train IoU: 0.6536\n",
      "Val Loss: 0.8031, Val IoU: 0.7725\n",
      "Epoch 14/100\n"
     ]
    },
    {
     "name": "stderr",
     "output_type": "stream",
     "text": [
      "100%|██████████| 9/9 [00:20<00:00,  2.27s/it]\n",
      "100%|██████████| 4/4 [00:05<00:00,  1.49s/it]\n"
     ]
    },
    {
     "name": "stdout",
     "output_type": "stream",
     "text": [
      "Train Loss: 0.8441, Train IoU: 0.6719\n",
      "Val Loss: 0.8113, Val IoU: 0.7617\n",
      "Epoch 15/100\n"
     ]
    },
    {
     "name": "stderr",
     "output_type": "stream",
     "text": [
      "100%|██████████| 9/9 [00:20<00:00,  2.25s/it]\n",
      "100%|██████████| 4/4 [00:05<00:00,  1.47s/it]\n"
     ]
    },
    {
     "name": "stdout",
     "output_type": "stream",
     "text": [
      "Train Loss: 0.8272, Train IoU: 0.6729\n",
      "Val Loss: 0.8141, Val IoU: 0.7394\n",
      "Epoch 16/100\n"
     ]
    },
    {
     "name": "stderr",
     "output_type": "stream",
     "text": [
      "100%|██████████| 9/9 [00:19<00:00,  2.22s/it]\n",
      "100%|██████████| 4/4 [00:05<00:00,  1.46s/it]\n"
     ]
    },
    {
     "name": "stdout",
     "output_type": "stream",
     "text": [
      "Train Loss: 0.8137, Train IoU: 0.6625\n",
      "Val Loss: 0.7562, Val IoU: 0.7960\n",
      "Epoch 17/100\n"
     ]
    },
    {
     "name": "stderr",
     "output_type": "stream",
     "text": [
      "100%|██████████| 9/9 [00:20<00:00,  2.29s/it]\n",
      "100%|██████████| 4/4 [00:05<00:00,  1.45s/it]\n"
     ]
    },
    {
     "name": "stdout",
     "output_type": "stream",
     "text": [
      "Train Loss: 0.8189, Train IoU: 0.6846\n",
      "Val Loss: 0.7627, Val IoU: 0.7966\n",
      "Epoch 18/100\n"
     ]
    },
    {
     "name": "stderr",
     "output_type": "stream",
     "text": [
      "100%|██████████| 9/9 [00:20<00:00,  2.28s/it]\n",
      "100%|██████████| 4/4 [00:05<00:00,  1.47s/it]\n"
     ]
    },
    {
     "name": "stdout",
     "output_type": "stream",
     "text": [
      "Train Loss: 0.8092, Train IoU: 0.6772\n",
      "Val Loss: 0.7718, Val IoU: 0.8166\n",
      "Epoch 19/100\n"
     ]
    },
    {
     "name": "stderr",
     "output_type": "stream",
     "text": [
      "100%|██████████| 9/9 [00:19<00:00,  2.19s/it]\n",
      "100%|██████████| 4/4 [00:05<00:00,  1.47s/it]\n"
     ]
    },
    {
     "name": "stdout",
     "output_type": "stream",
     "text": [
      "Train Loss: 0.8127, Train IoU: 0.6963\n",
      "Val Loss: 0.7752, Val IoU: 0.7653\n",
      "Epoch 20/100\n"
     ]
    },
    {
     "name": "stderr",
     "output_type": "stream",
     "text": [
      "100%|██████████| 9/9 [00:20<00:00,  2.23s/it]\n",
      "100%|██████████| 4/4 [00:05<00:00,  1.48s/it]\n"
     ]
    },
    {
     "name": "stdout",
     "output_type": "stream",
     "text": [
      "Train Loss: 0.7844, Train IoU: 0.7253\n",
      "Val Loss: 0.8439, Val IoU: 0.6623\n",
      "Epoch 21/100\n"
     ]
    },
    {
     "name": "stderr",
     "output_type": "stream",
     "text": [
      "100%|██████████| 9/9 [00:19<00:00,  2.21s/it]\n",
      "100%|██████████| 4/4 [00:05<00:00,  1.46s/it]\n"
     ]
    },
    {
     "name": "stdout",
     "output_type": "stream",
     "text": [
      "Train Loss: 0.7878, Train IoU: 0.7207\n",
      "Val Loss: 0.7587, Val IoU: 0.8061\n",
      "Epoch 22/100\n"
     ]
    },
    {
     "name": "stderr",
     "output_type": "stream",
     "text": [
      "100%|██████████| 9/9 [00:20<00:00,  2.27s/it]\n",
      "100%|██████████| 4/4 [00:05<00:00,  1.48s/it]\n"
     ]
    },
    {
     "name": "stdout",
     "output_type": "stream",
     "text": [
      "Train Loss: 0.7774, Train IoU: 0.7545\n",
      "Val Loss: 0.7655, Val IoU: 0.7496\n",
      "Epoch 23/100\n"
     ]
    },
    {
     "name": "stderr",
     "output_type": "stream",
     "text": [
      "100%|██████████| 9/9 [00:20<00:00,  2.24s/it]\n",
      "100%|██████████| 4/4 [00:05<00:00,  1.46s/it]\n"
     ]
    },
    {
     "name": "stdout",
     "output_type": "stream",
     "text": [
      "Train Loss: 0.7703, Train IoU: 0.7464\n",
      "Val Loss: 0.7196, Val IoU: 0.8070\n",
      "Epoch 24/100\n"
     ]
    },
    {
     "name": "stderr",
     "output_type": "stream",
     "text": [
      "100%|██████████| 9/9 [00:20<00:00,  2.29s/it]\n",
      "100%|██████████| 4/4 [00:05<00:00,  1.47s/it]\n"
     ]
    },
    {
     "name": "stdout",
     "output_type": "stream",
     "text": [
      "Train Loss: 0.7707, Train IoU: 0.6937\n",
      "Val Loss: 0.7416, Val IoU: 0.7672\n",
      "Epoch 25/100\n"
     ]
    },
    {
     "name": "stderr",
     "output_type": "stream",
     "text": [
      "100%|██████████| 9/9 [00:20<00:00,  2.24s/it]\n",
      "100%|██████████| 4/4 [00:05<00:00,  1.44s/it]\n"
     ]
    },
    {
     "name": "stdout",
     "output_type": "stream",
     "text": [
      "Train Loss: 0.7453, Train IoU: 0.7313\n",
      "Val Loss: 0.7190, Val IoU: 0.8167\n",
      "Epoch 26/100\n"
     ]
    },
    {
     "name": "stderr",
     "output_type": "stream",
     "text": [
      "100%|██████████| 9/9 [00:19<00:00,  2.19s/it]\n",
      "100%|██████████| 4/4 [00:05<00:00,  1.45s/it]\n"
     ]
    },
    {
     "name": "stdout",
     "output_type": "stream",
     "text": [
      "Train Loss: 0.7548, Train IoU: 0.7630\n",
      "Val Loss: 0.7062, Val IoU: 0.8099\n",
      "Epoch 27/100\n"
     ]
    },
    {
     "name": "stderr",
     "output_type": "stream",
     "text": [
      "100%|██████████| 9/9 [00:19<00:00,  2.21s/it]\n",
      "100%|██████████| 4/4 [00:05<00:00,  1.45s/it]\n"
     ]
    },
    {
     "name": "stdout",
     "output_type": "stream",
     "text": [
      "Train Loss: 0.7568, Train IoU: 0.7343\n",
      "Val Loss: 0.7225, Val IoU: 0.7732\n",
      "Epoch 28/100\n"
     ]
    },
    {
     "name": "stderr",
     "output_type": "stream",
     "text": [
      "100%|██████████| 9/9 [00:20<00:00,  2.23s/it]\n",
      "100%|██████████| 4/4 [00:05<00:00,  1.45s/it]\n"
     ]
    },
    {
     "name": "stdout",
     "output_type": "stream",
     "text": [
      "Train Loss: 0.7419, Train IoU: 0.7346\n",
      "Val Loss: 0.7099, Val IoU: 0.7931\n",
      "Epoch 29/100\n"
     ]
    },
    {
     "name": "stderr",
     "output_type": "stream",
     "text": [
      "100%|██████████| 9/9 [00:20<00:00,  2.27s/it]\n",
      "100%|██████████| 4/4 [00:05<00:00,  1.46s/it]\n"
     ]
    },
    {
     "name": "stdout",
     "output_type": "stream",
     "text": [
      "Train Loss: 0.7479, Train IoU: 0.7684\n",
      "Val Loss: 0.7041, Val IoU: 0.7942\n",
      "Epoch 30/100\n"
     ]
    },
    {
     "name": "stderr",
     "output_type": "stream",
     "text": [
      "100%|██████████| 9/9 [00:20<00:00,  2.24s/it]\n",
      "100%|██████████| 4/4 [00:05<00:00,  1.44s/it]\n"
     ]
    },
    {
     "name": "stdout",
     "output_type": "stream",
     "text": [
      "Train Loss: 0.7418, Train IoU: 0.7701\n",
      "Val Loss: 0.7044, Val IoU: 0.8031\n",
      "Epoch 31/100\n"
     ]
    },
    {
     "name": "stderr",
     "output_type": "stream",
     "text": [
      "100%|██████████| 9/9 [00:20<00:00,  2.23s/it]\n",
      "100%|██████████| 4/4 [00:05<00:00,  1.47s/it]\n"
     ]
    },
    {
     "name": "stdout",
     "output_type": "stream",
     "text": [
      "Train Loss: 0.7212, Train IoU: 0.7908\n",
      "Val Loss: 0.6989, Val IoU: 0.7994\n",
      "Epoch 32/100\n"
     ]
    },
    {
     "name": "stderr",
     "output_type": "stream",
     "text": [
      "100%|██████████| 9/9 [00:20<00:00,  2.25s/it]\n",
      "100%|██████████| 4/4 [00:05<00:00,  1.47s/it]\n"
     ]
    },
    {
     "name": "stdout",
     "output_type": "stream",
     "text": [
      "Train Loss: 0.7118, Train IoU: 0.7929\n",
      "Val Loss: 0.7022, Val IoU: 0.7951\n",
      "Epoch 33/100\n"
     ]
    },
    {
     "name": "stderr",
     "output_type": "stream",
     "text": [
      "100%|██████████| 9/9 [00:20<00:00,  2.28s/it]\n",
      "100%|██████████| 4/4 [00:05<00:00,  1.46s/it]\n"
     ]
    },
    {
     "name": "stdout",
     "output_type": "stream",
     "text": [
      "Train Loss: 0.7059, Train IoU: 0.7865\n",
      "Val Loss: 0.6824, Val IoU: 0.8040\n",
      "Epoch 34/100\n"
     ]
    },
    {
     "name": "stderr",
     "output_type": "stream",
     "text": [
      "100%|██████████| 9/9 [00:20<00:00,  2.27s/it]\n",
      "100%|██████████| 4/4 [00:05<00:00,  1.45s/it]\n"
     ]
    },
    {
     "name": "stdout",
     "output_type": "stream",
     "text": [
      "Train Loss: 0.6969, Train IoU: 0.7777\n",
      "Val Loss: 0.6666, Val IoU: 0.8143\n",
      "Epoch 35/100\n"
     ]
    },
    {
     "name": "stderr",
     "output_type": "stream",
     "text": [
      "100%|██████████| 9/9 [00:21<00:00,  2.35s/it]\n",
      "100%|██████████| 4/4 [00:05<00:00,  1.45s/it]\n"
     ]
    },
    {
     "name": "stdout",
     "output_type": "stream",
     "text": [
      "Train Loss: 0.7016, Train IoU: 0.7812\n",
      "Val Loss: 0.6839, Val IoU: 0.7928\n",
      "Epoch 36/100\n"
     ]
    },
    {
     "name": "stderr",
     "output_type": "stream",
     "text": [
      "100%|██████████| 9/9 [00:19<00:00,  2.19s/it]\n",
      "100%|██████████| 4/4 [00:05<00:00,  1.47s/it]\n"
     ]
    },
    {
     "name": "stdout",
     "output_type": "stream",
     "text": [
      "Train Loss: 0.7171, Train IoU: 0.7771\n",
      "Val Loss: 0.6832, Val IoU: 0.8090\n",
      "Epoch 37/100\n"
     ]
    },
    {
     "name": "stderr",
     "output_type": "stream",
     "text": [
      "100%|██████████| 9/9 [00:19<00:00,  2.21s/it]\n",
      "100%|██████████| 4/4 [00:05<00:00,  1.45s/it]\n"
     ]
    },
    {
     "name": "stdout",
     "output_type": "stream",
     "text": [
      "Train Loss: 0.6949, Train IoU: 0.7834\n",
      "Val Loss: 0.6940, Val IoU: 0.7919\n",
      "Epoch 38/100\n"
     ]
    },
    {
     "name": "stderr",
     "output_type": "stream",
     "text": [
      "100%|██████████| 9/9 [00:20<00:00,  2.29s/it]\n",
      "100%|██████████| 4/4 [00:05<00:00,  1.45s/it]\n"
     ]
    },
    {
     "name": "stdout",
     "output_type": "stream",
     "text": [
      "Train Loss: 0.7047, Train IoU: 0.7851\n",
      "Val Loss: 0.6569, Val IoU: 0.8143\n",
      "Epoch 39/100\n"
     ]
    },
    {
     "name": "stderr",
     "output_type": "stream",
     "text": [
      "100%|██████████| 9/9 [00:20<00:00,  2.27s/it]\n",
      "100%|██████████| 4/4 [00:05<00:00,  1.48s/it]\n"
     ]
    },
    {
     "name": "stdout",
     "output_type": "stream",
     "text": [
      "Train Loss: 0.6793, Train IoU: 0.7985\n",
      "Val Loss: 0.6619, Val IoU: 0.8056\n",
      "Epoch 40/100\n"
     ]
    },
    {
     "name": "stderr",
     "output_type": "stream",
     "text": [
      "100%|██████████| 9/9 [00:20<00:00,  2.24s/it]\n",
      "100%|██████████| 4/4 [00:05<00:00,  1.45s/it]\n"
     ]
    },
    {
     "name": "stdout",
     "output_type": "stream",
     "text": [
      "Train Loss: 0.6828, Train IoU: 0.7935\n",
      "Val Loss: 0.6326, Val IoU: 0.8177\n",
      "Epoch 41/100\n"
     ]
    },
    {
     "name": "stderr",
     "output_type": "stream",
     "text": [
      "100%|██████████| 9/9 [00:19<00:00,  2.19s/it]\n",
      "100%|██████████| 4/4 [00:05<00:00,  1.49s/it]\n"
     ]
    },
    {
     "name": "stdout",
     "output_type": "stream",
     "text": [
      "Train Loss: 0.6696, Train IoU: 0.8015\n",
      "Val Loss: 0.6441, Val IoU: 0.8101\n",
      "Epoch 42/100\n"
     ]
    },
    {
     "name": "stderr",
     "output_type": "stream",
     "text": [
      "100%|██████████| 9/9 [00:19<00:00,  2.17s/it]\n",
      "100%|██████████| 4/4 [00:05<00:00,  1.45s/it]\n"
     ]
    },
    {
     "name": "stdout",
     "output_type": "stream",
     "text": [
      "Train Loss: 0.6671, Train IoU: 0.8147\n",
      "Val Loss: 0.7182, Val IoU: 0.7512\n",
      "Epoch 43/100\n"
     ]
    },
    {
     "name": "stderr",
     "output_type": "stream",
     "text": [
      "100%|██████████| 9/9 [00:20<00:00,  2.28s/it]\n",
      "100%|██████████| 4/4 [00:05<00:00,  1.46s/it]\n"
     ]
    },
    {
     "name": "stdout",
     "output_type": "stream",
     "text": [
      "Train Loss: 0.6610, Train IoU: 0.8069\n",
      "Val Loss: 0.6301, Val IoU: 0.8128\n",
      "Epoch 44/100\n"
     ]
    },
    {
     "name": "stderr",
     "output_type": "stream",
     "text": [
      "100%|██████████| 9/9 [00:20<00:00,  2.26s/it]\n",
      "100%|██████████| 4/4 [00:05<00:00,  1.46s/it]\n"
     ]
    },
    {
     "name": "stdout",
     "output_type": "stream",
     "text": [
      "Train Loss: 0.6417, Train IoU: 0.8042\n",
      "Val Loss: 0.6386, Val IoU: 0.7982\n",
      "Epoch 45/100\n"
     ]
    },
    {
     "name": "stderr",
     "output_type": "stream",
     "text": [
      "100%|██████████| 9/9 [00:20<00:00,  2.32s/it]\n",
      "100%|██████████| 4/4 [00:05<00:00,  1.44s/it]\n"
     ]
    },
    {
     "name": "stdout",
     "output_type": "stream",
     "text": [
      "Train Loss: 0.6661, Train IoU: 0.8083\n",
      "Val Loss: 0.6236, Val IoU: 0.8193\n",
      "Epoch 46/100\n"
     ]
    },
    {
     "name": "stderr",
     "output_type": "stream",
     "text": [
      "100%|██████████| 9/9 [00:19<00:00,  2.21s/it]\n",
      "100%|██████████| 4/4 [00:05<00:00,  1.46s/it]\n"
     ]
    },
    {
     "name": "stdout",
     "output_type": "stream",
     "text": [
      "Train Loss: 0.6550, Train IoU: 0.8231\n",
      "Val Loss: 0.6224, Val IoU: 0.8162\n",
      "Epoch 47/100\n"
     ]
    },
    {
     "name": "stderr",
     "output_type": "stream",
     "text": [
      "100%|██████████| 9/9 [00:19<00:00,  2.16s/it]\n",
      "100%|██████████| 4/4 [00:05<00:00,  1.48s/it]\n"
     ]
    },
    {
     "name": "stdout",
     "output_type": "stream",
     "text": [
      "Train Loss: 0.6346, Train IoU: 0.8158\n",
      "Val Loss: 0.6043, Val IoU: 0.8207\n",
      "Epoch 48/100\n"
     ]
    },
    {
     "name": "stderr",
     "output_type": "stream",
     "text": [
      "100%|██████████| 9/9 [00:19<00:00,  2.20s/it]\n",
      "100%|██████████| 4/4 [00:05<00:00,  1.46s/it]\n"
     ]
    },
    {
     "name": "stdout",
     "output_type": "stream",
     "text": [
      "Train Loss: 0.6577, Train IoU: 0.8052\n",
      "Val Loss: 0.5994, Val IoU: 0.8200\n",
      "Epoch 49/100\n"
     ]
    },
    {
     "name": "stderr",
     "output_type": "stream",
     "text": [
      "100%|██████████| 9/9 [00:20<00:00,  2.31s/it]\n",
      "100%|██████████| 4/4 [00:05<00:00,  1.48s/it]\n"
     ]
    },
    {
     "name": "stdout",
     "output_type": "stream",
     "text": [
      "Train Loss: 0.6351, Train IoU: 0.8152\n",
      "Val Loss: 0.6453, Val IoU: 0.7743\n",
      "Epoch 50/100\n"
     ]
    },
    {
     "name": "stderr",
     "output_type": "stream",
     "text": [
      "100%|██████████| 9/9 [00:20<00:00,  2.25s/it]\n",
      "100%|██████████| 4/4 [00:05<00:00,  1.45s/it]\n"
     ]
    },
    {
     "name": "stdout",
     "output_type": "stream",
     "text": [
      "Train Loss: 0.6331, Train IoU: 0.8162\n",
      "Val Loss: 0.6043, Val IoU: 0.8181\n",
      "Epoch 51/100\n"
     ]
    },
    {
     "name": "stderr",
     "output_type": "stream",
     "text": [
      "100%|██████████| 9/9 [00:20<00:00,  2.23s/it]\n",
      "100%|██████████| 4/4 [00:05<00:00,  1.45s/it]\n"
     ]
    },
    {
     "name": "stdout",
     "output_type": "stream",
     "text": [
      "Train Loss: 0.6342, Train IoU: 0.8213\n",
      "Val Loss: 0.5942, Val IoU: 0.8204\n",
      "Epoch 52/100\n"
     ]
    },
    {
     "name": "stderr",
     "output_type": "stream",
     "text": [
      "100%|██████████| 9/9 [00:20<00:00,  2.23s/it]\n",
      "100%|██████████| 4/4 [00:05<00:00,  1.46s/it]\n"
     ]
    },
    {
     "name": "stdout",
     "output_type": "stream",
     "text": [
      "Train Loss: 0.6179, Train IoU: 0.8177\n",
      "Val Loss: 0.5967, Val IoU: 0.8092\n",
      "Epoch 53/100\n"
     ]
    },
    {
     "name": "stderr",
     "output_type": "stream",
     "text": [
      "100%|██████████| 9/9 [00:20<00:00,  2.25s/it]\n",
      "100%|██████████| 4/4 [00:05<00:00,  1.45s/it]\n"
     ]
    },
    {
     "name": "stdout",
     "output_type": "stream",
     "text": [
      "Train Loss: 0.6153, Train IoU: 0.8173\n",
      "Val Loss: 0.5816, Val IoU: 0.8270\n",
      "Epoch 54/100\n"
     ]
    },
    {
     "name": "stderr",
     "output_type": "stream",
     "text": [
      "100%|██████████| 9/9 [00:20<00:00,  2.30s/it]\n",
      "100%|██████████| 4/4 [00:05<00:00,  1.46s/it]\n"
     ]
    },
    {
     "name": "stdout",
     "output_type": "stream",
     "text": [
      "Train Loss: 0.6174, Train IoU: 0.8138\n",
      "Val Loss: 0.5842, Val IoU: 0.8235\n",
      "Epoch 55/100\n"
     ]
    },
    {
     "name": "stderr",
     "output_type": "stream",
     "text": [
      "100%|██████████| 9/9 [00:20<00:00,  2.30s/it]\n",
      "100%|██████████| 4/4 [00:05<00:00,  1.45s/it]\n"
     ]
    },
    {
     "name": "stdout",
     "output_type": "stream",
     "text": [
      "Train Loss: 0.6238, Train IoU: 0.8149\n",
      "Val Loss: 0.5814, Val IoU: 0.8091\n",
      "Epoch 56/100\n"
     ]
    },
    {
     "name": "stderr",
     "output_type": "stream",
     "text": [
      "100%|██████████| 9/9 [00:19<00:00,  2.18s/it]\n",
      "100%|██████████| 4/4 [00:05<00:00,  1.45s/it]\n"
     ]
    },
    {
     "name": "stdout",
     "output_type": "stream",
     "text": [
      "Train Loss: 0.6075, Train IoU: 0.8189\n",
      "Val Loss: 0.5717, Val IoU: 0.8333\n",
      "Epoch 57/100\n"
     ]
    },
    {
     "name": "stderr",
     "output_type": "stream",
     "text": [
      "100%|██████████| 9/9 [00:19<00:00,  2.22s/it]\n",
      "100%|██████████| 4/4 [00:05<00:00,  1.48s/it]\n"
     ]
    },
    {
     "name": "stdout",
     "output_type": "stream",
     "text": [
      "Train Loss: 0.6115, Train IoU: 0.8217\n",
      "Val Loss: 0.5709, Val IoU: 0.8162\n",
      "Epoch 58/100\n"
     ]
    },
    {
     "name": "stderr",
     "output_type": "stream",
     "text": [
      "100%|██████████| 9/9 [00:19<00:00,  2.19s/it]\n",
      "100%|██████████| 4/4 [00:05<00:00,  1.45s/it]\n"
     ]
    },
    {
     "name": "stdout",
     "output_type": "stream",
     "text": [
      "Train Loss: 0.5910, Train IoU: 0.8224\n",
      "Val Loss: 0.5706, Val IoU: 0.8260\n",
      "Epoch 59/100\n"
     ]
    },
    {
     "name": "stderr",
     "output_type": "stream",
     "text": [
      "100%|██████████| 9/9 [00:20<00:00,  2.26s/it]\n",
      "100%|██████████| 4/4 [00:05<00:00,  1.46s/it]\n"
     ]
    },
    {
     "name": "stdout",
     "output_type": "stream",
     "text": [
      "Train Loss: 0.5976, Train IoU: 0.8280\n",
      "Val Loss: 0.5634, Val IoU: 0.8322\n",
      "Epoch 60/100\n"
     ]
    },
    {
     "name": "stderr",
     "output_type": "stream",
     "text": [
      "100%|██████████| 9/9 [00:20<00:00,  2.29s/it]\n",
      "100%|██████████| 4/4 [00:05<00:00,  1.45s/it]\n"
     ]
    },
    {
     "name": "stdout",
     "output_type": "stream",
     "text": [
      "Train Loss: 0.5913, Train IoU: 0.8270\n",
      "Val Loss: 0.5570, Val IoU: 0.8276\n",
      "Epoch 61/100\n"
     ]
    },
    {
     "name": "stderr",
     "output_type": "stream",
     "text": [
      "100%|██████████| 9/9 [00:19<00:00,  2.22s/it]\n",
      "100%|██████████| 4/4 [00:05<00:00,  1.47s/it]\n"
     ]
    },
    {
     "name": "stdout",
     "output_type": "stream",
     "text": [
      "Train Loss: 0.5959, Train IoU: 0.8350\n",
      "Val Loss: 0.5615, Val IoU: 0.8289\n",
      "Epoch 62/100\n"
     ]
    },
    {
     "name": "stderr",
     "output_type": "stream",
     "text": [
      "100%|██████████| 9/9 [00:19<00:00,  2.21s/it]\n",
      "100%|██████████| 4/4 [00:06<00:00,  1.51s/it]\n"
     ]
    },
    {
     "name": "stdout",
     "output_type": "stream",
     "text": [
      "Train Loss: 0.5912, Train IoU: 0.8355\n",
      "Val Loss: 0.5600, Val IoU: 0.8240\n",
      "Epoch 63/100\n"
     ]
    },
    {
     "name": "stderr",
     "output_type": "stream",
     "text": [
      "100%|██████████| 9/9 [00:19<00:00,  2.20s/it]\n",
      "100%|██████████| 4/4 [00:05<00:00,  1.46s/it]\n"
     ]
    },
    {
     "name": "stdout",
     "output_type": "stream",
     "text": [
      "Train Loss: 0.5977, Train IoU: 0.8373\n",
      "Val Loss: 0.5472, Val IoU: 0.8325\n",
      "Epoch 64/100\n"
     ]
    },
    {
     "name": "stderr",
     "output_type": "stream",
     "text": [
      "100%|██████████| 9/9 [00:20<00:00,  2.25s/it]\n",
      "100%|██████████| 4/4 [00:05<00:00,  1.45s/it]\n"
     ]
    },
    {
     "name": "stdout",
     "output_type": "stream",
     "text": [
      "Train Loss: 0.5809, Train IoU: 0.8298\n",
      "Val Loss: 0.5973, Val IoU: 0.7996\n",
      "Epoch 65/100\n"
     ]
    },
    {
     "name": "stderr",
     "output_type": "stream",
     "text": [
      "100%|██████████| 9/9 [00:20<00:00,  2.27s/it]\n",
      "100%|██████████| 4/4 [00:05<00:00,  1.45s/it]\n"
     ]
    },
    {
     "name": "stdout",
     "output_type": "stream",
     "text": [
      "Train Loss: 0.5810, Train IoU: 0.8108\n",
      "Val Loss: 0.5690, Val IoU: 0.8189\n",
      "Epoch 66/100\n"
     ]
    },
    {
     "name": "stderr",
     "output_type": "stream",
     "text": [
      "100%|██████████| 9/9 [00:20<00:00,  2.25s/it]\n",
      "100%|██████████| 4/4 [00:05<00:00,  1.47s/it]\n"
     ]
    },
    {
     "name": "stdout",
     "output_type": "stream",
     "text": [
      "Train Loss: 0.5924, Train IoU: 0.8125\n",
      "Val Loss: 0.5701, Val IoU: 0.8075\n",
      "Epoch 67/100\n"
     ]
    },
    {
     "name": "stderr",
     "output_type": "stream",
     "text": [
      "100%|██████████| 9/9 [00:20<00:00,  2.23s/it]\n",
      "100%|██████████| 4/4 [00:05<00:00,  1.48s/it]\n"
     ]
    },
    {
     "name": "stdout",
     "output_type": "stream",
     "text": [
      "Train Loss: 0.5594, Train IoU: 0.8278\n",
      "Val Loss: 0.5313, Val IoU: 0.8290\n",
      "Epoch 68/100\n"
     ]
    },
    {
     "name": "stderr",
     "output_type": "stream",
     "text": [
      "100%|██████████| 9/9 [00:19<00:00,  2.20s/it]\n",
      "100%|██████████| 4/4 [00:05<00:00,  1.45s/it]\n"
     ]
    },
    {
     "name": "stdout",
     "output_type": "stream",
     "text": [
      "Train Loss: 0.5812, Train IoU: 0.8190\n",
      "Val Loss: 0.5335, Val IoU: 0.8333\n",
      "Epoch 69/100\n"
     ]
    },
    {
     "name": "stderr",
     "output_type": "stream",
     "text": [
      "100%|██████████| 9/9 [00:19<00:00,  2.21s/it]\n",
      "100%|██████████| 4/4 [00:05<00:00,  1.47s/it]\n"
     ]
    },
    {
     "name": "stdout",
     "output_type": "stream",
     "text": [
      "Train Loss: 0.5758, Train IoU: 0.8202\n",
      "Val Loss: 0.5511, Val IoU: 0.8182\n",
      "Epoch 70/100\n"
     ]
    },
    {
     "name": "stderr",
     "output_type": "stream",
     "text": [
      "100%|██████████| 9/9 [00:20<00:00,  2.25s/it]\n",
      "100%|██████████| 4/4 [00:05<00:00,  1.48s/it]\n"
     ]
    },
    {
     "name": "stdout",
     "output_type": "stream",
     "text": [
      "Train Loss: 0.5787, Train IoU: 0.8289\n",
      "Val Loss: 0.5488, Val IoU: 0.8329\n",
      "Epoch 71/100\n"
     ]
    },
    {
     "name": "stderr",
     "output_type": "stream",
     "text": [
      "100%|██████████| 9/9 [00:19<00:00,  2.21s/it]\n",
      "100%|██████████| 4/4 [00:05<00:00,  1.44s/it]\n"
     ]
    },
    {
     "name": "stdout",
     "output_type": "stream",
     "text": [
      "Train Loss: 0.5706, Train IoU: 0.8334\n",
      "Val Loss: 0.5253, Val IoU: 0.8302\n",
      "Epoch 72/100\n"
     ]
    },
    {
     "name": "stderr",
     "output_type": "stream",
     "text": [
      "100%|██████████| 9/9 [00:19<00:00,  2.18s/it]\n",
      "100%|██████████| 4/4 [00:05<00:00,  1.46s/it]\n"
     ]
    },
    {
     "name": "stdout",
     "output_type": "stream",
     "text": [
      "Train Loss: 0.5494, Train IoU: 0.8292\n",
      "Val Loss: 0.5295, Val IoU: 0.8313\n",
      "Epoch 73/100\n"
     ]
    },
    {
     "name": "stderr",
     "output_type": "stream",
     "text": [
      "100%|██████████| 9/9 [00:19<00:00,  2.17s/it]\n",
      "100%|██████████| 4/4 [00:05<00:00,  1.46s/it]\n"
     ]
    },
    {
     "name": "stdout",
     "output_type": "stream",
     "text": [
      "Train Loss: 0.5630, Train IoU: 0.8245\n",
      "Val Loss: 0.6205, Val IoU: 0.7595\n",
      "Epoch 74/100\n"
     ]
    },
    {
     "name": "stderr",
     "output_type": "stream",
     "text": [
      "100%|██████████| 9/9 [00:19<00:00,  2.20s/it]\n",
      "100%|██████████| 4/4 [00:05<00:00,  1.44s/it]\n"
     ]
    },
    {
     "name": "stdout",
     "output_type": "stream",
     "text": [
      "Train Loss: 0.5645, Train IoU: 0.8307\n",
      "Val Loss: 0.6155, Val IoU: 0.7630\n",
      "Epoch 75/100\n"
     ]
    },
    {
     "name": "stderr",
     "output_type": "stream",
     "text": [
      "100%|██████████| 9/9 [00:20<00:00,  2.30s/it]\n",
      "100%|██████████| 4/4 [00:05<00:00,  1.46s/it]\n"
     ]
    },
    {
     "name": "stdout",
     "output_type": "stream",
     "text": [
      "Train Loss: 0.5626, Train IoU: 0.8196\n",
      "Val Loss: 0.5189, Val IoU: 0.8297\n",
      "Epoch 76/100\n"
     ]
    },
    {
     "name": "stderr",
     "output_type": "stream",
     "text": [
      "100%|██████████| 9/9 [00:20<00:00,  2.26s/it]\n",
      "100%|██████████| 4/4 [00:05<00:00,  1.46s/it]\n"
     ]
    },
    {
     "name": "stdout",
     "output_type": "stream",
     "text": [
      "Train Loss: 0.5496, Train IoU: 0.8314\n",
      "Val Loss: 0.5116, Val IoU: 0.8327\n",
      "Epoch 77/100\n"
     ]
    },
    {
     "name": "stderr",
     "output_type": "stream",
     "text": [
      "100%|██████████| 9/9 [00:19<00:00,  2.21s/it]\n",
      "100%|██████████| 4/4 [00:05<00:00,  1.45s/it]\n"
     ]
    },
    {
     "name": "stdout",
     "output_type": "stream",
     "text": [
      "Train Loss: 0.5518, Train IoU: 0.8257\n",
      "Val Loss: 0.5360, Val IoU: 0.8172\n",
      "Epoch 78/100\n"
     ]
    },
    {
     "name": "stderr",
     "output_type": "stream",
     "text": [
      "100%|██████████| 9/9 [00:19<00:00,  2.20s/it]\n",
      "100%|██████████| 4/4 [00:05<00:00,  1.46s/it]\n"
     ]
    },
    {
     "name": "stdout",
     "output_type": "stream",
     "text": [
      "Train Loss: 0.5506, Train IoU: 0.8377\n",
      "Val Loss: 0.5238, Val IoU: 0.8332\n",
      "Epoch 79/100\n"
     ]
    },
    {
     "name": "stderr",
     "output_type": "stream",
     "text": [
      "100%|██████████| 9/9 [00:19<00:00,  2.22s/it]\n",
      "100%|██████████| 4/4 [00:05<00:00,  1.46s/it]\n"
     ]
    },
    {
     "name": "stdout",
     "output_type": "stream",
     "text": [
      "Train Loss: 0.5413, Train IoU: 0.8374\n",
      "Val Loss: 0.5169, Val IoU: 0.8107\n",
      "Epoch 80/100\n"
     ]
    },
    {
     "name": "stderr",
     "output_type": "stream",
     "text": [
      "100%|██████████| 9/9 [00:20<00:00,  2.29s/it]\n",
      "100%|██████████| 4/4 [00:05<00:00,  1.44s/it]\n"
     ]
    },
    {
     "name": "stdout",
     "output_type": "stream",
     "text": [
      "Train Loss: 0.5301, Train IoU: 0.8272\n",
      "Val Loss: 0.5169, Val IoU: 0.8180\n",
      "Epoch 81/100\n"
     ]
    },
    {
     "name": "stderr",
     "output_type": "stream",
     "text": [
      "100%|██████████| 9/9 [00:20<00:00,  2.28s/it]\n",
      "100%|██████████| 4/4 [00:05<00:00,  1.45s/it]\n"
     ]
    },
    {
     "name": "stdout",
     "output_type": "stream",
     "text": [
      "Train Loss: 0.5414, Train IoU: 0.8394\n",
      "Val Loss: 0.5148, Val IoU: 0.8315\n",
      "Epoch 82/100\n"
     ]
    },
    {
     "name": "stderr",
     "output_type": "stream",
     "text": [
      "100%|██████████| 9/9 [00:19<00:00,  2.21s/it]\n",
      "100%|██████████| 4/4 [00:05<00:00,  1.45s/it]\n"
     ]
    },
    {
     "name": "stdout",
     "output_type": "stream",
     "text": [
      "Train Loss: 0.5481, Train IoU: 0.8353\n",
      "Val Loss: 0.4996, Val IoU: 0.8315\n",
      "Epoch 83/100\n"
     ]
    },
    {
     "name": "stderr",
     "output_type": "stream",
     "text": [
      "100%|██████████| 9/9 [00:19<00:00,  2.18s/it]\n",
      "100%|██████████| 4/4 [00:05<00:00,  1.45s/it]\n"
     ]
    },
    {
     "name": "stdout",
     "output_type": "stream",
     "text": [
      "Train Loss: 0.5411, Train IoU: 0.8297\n",
      "Val Loss: 0.4883, Val IoU: 0.8368\n",
      "Epoch 84/100\n"
     ]
    },
    {
     "name": "stderr",
     "output_type": "stream",
     "text": [
      "100%|██████████| 9/9 [00:20<00:00,  2.23s/it]\n",
      "100%|██████████| 4/4 [00:05<00:00,  1.46s/it]\n"
     ]
    },
    {
     "name": "stdout",
     "output_type": "stream",
     "text": [
      "Train Loss: 0.5480, Train IoU: 0.8230\n",
      "Val Loss: 0.4990, Val IoU: 0.8268\n",
      "Epoch 85/100\n"
     ]
    },
    {
     "name": "stderr",
     "output_type": "stream",
     "text": [
      "100%|██████████| 9/9 [00:20<00:00,  2.32s/it]\n",
      "100%|██████████| 4/4 [00:05<00:00,  1.47s/it]\n"
     ]
    },
    {
     "name": "stdout",
     "output_type": "stream",
     "text": [
      "Train Loss: 0.5348, Train IoU: 0.8207\n",
      "Val Loss: 0.5264, Val IoU: 0.8054\n",
      "Epoch 86/100\n"
     ]
    },
    {
     "name": "stderr",
     "output_type": "stream",
     "text": [
      "100%|██████████| 9/9 [00:20<00:00,  2.25s/it]\n",
      "100%|██████████| 4/4 [00:05<00:00,  1.46s/it]\n"
     ]
    },
    {
     "name": "stdout",
     "output_type": "stream",
     "text": [
      "Train Loss: 0.5265, Train IoU: 0.8440\n",
      "Val Loss: 0.5368, Val IoU: 0.8053\n",
      "Epoch 87/100\n"
     ]
    },
    {
     "name": "stderr",
     "output_type": "stream",
     "text": [
      "100%|██████████| 9/9 [00:20<00:00,  2.23s/it]\n",
      "100%|██████████| 4/4 [00:05<00:00,  1.46s/it]\n"
     ]
    },
    {
     "name": "stdout",
     "output_type": "stream",
     "text": [
      "Train Loss: 0.5155, Train IoU: 0.8377\n",
      "Val Loss: 0.4772, Val IoU: 0.8394\n",
      "Epoch 88/100\n"
     ]
    },
    {
     "name": "stderr",
     "output_type": "stream",
     "text": [
      "100%|██████████| 9/9 [00:19<00:00,  2.20s/it]\n",
      "100%|██████████| 4/4 [00:06<00:00,  1.51s/it]\n"
     ]
    },
    {
     "name": "stdout",
     "output_type": "stream",
     "text": [
      "Train Loss: 0.4972, Train IoU: 0.8429\n",
      "Val Loss: 0.4814, Val IoU: 0.8311\n",
      "Epoch 89/100\n"
     ]
    },
    {
     "name": "stderr",
     "output_type": "stream",
     "text": [
      "100%|██████████| 9/9 [00:19<00:00,  2.21s/it]\n",
      "100%|██████████| 4/4 [00:05<00:00,  1.46s/it]\n"
     ]
    },
    {
     "name": "stdout",
     "output_type": "stream",
     "text": [
      "Train Loss: 0.4940, Train IoU: 0.8509\n",
      "Val Loss: 0.4736, Val IoU: 0.8409\n",
      "Epoch 90/100\n"
     ]
    },
    {
     "name": "stderr",
     "output_type": "stream",
     "text": [
      "100%|██████████| 9/9 [00:20<00:00,  2.28s/it]\n",
      "100%|██████████| 4/4 [00:05<00:00,  1.45s/it]\n"
     ]
    },
    {
     "name": "stdout",
     "output_type": "stream",
     "text": [
      "Train Loss: 0.4922, Train IoU: 0.8536\n",
      "Val Loss: 0.4761, Val IoU: 0.8304\n",
      "Epoch 91/100\n"
     ]
    },
    {
     "name": "stderr",
     "output_type": "stream",
     "text": [
      "100%|██████████| 9/9 [00:20<00:00,  2.26s/it]\n",
      "100%|██████████| 4/4 [00:05<00:00,  1.45s/it]\n"
     ]
    },
    {
     "name": "stdout",
     "output_type": "stream",
     "text": [
      "Train Loss: 0.5046, Train IoU: 0.8449\n",
      "Val Loss: 0.4725, Val IoU: 0.8386\n",
      "Epoch 92/100\n"
     ]
    },
    {
     "name": "stderr",
     "output_type": "stream",
     "text": [
      "100%|██████████| 9/9 [00:19<00:00,  2.21s/it]\n",
      "100%|██████████| 4/4 [00:05<00:00,  1.48s/it]\n"
     ]
    },
    {
     "name": "stdout",
     "output_type": "stream",
     "text": [
      "Train Loss: 0.4867, Train IoU: 0.8488\n",
      "Val Loss: 0.4607, Val IoU: 0.8405\n",
      "Epoch 93/100\n"
     ]
    },
    {
     "name": "stderr",
     "output_type": "stream",
     "text": [
      "100%|██████████| 9/9 [00:20<00:00,  2.23s/it]\n",
      "100%|██████████| 4/4 [00:05<00:00,  1.47s/it]\n"
     ]
    },
    {
     "name": "stdout",
     "output_type": "stream",
     "text": [
      "Train Loss: 0.5060, Train IoU: 0.8329\n",
      "Val Loss: 0.4772, Val IoU: 0.8341\n",
      "Epoch 94/100\n"
     ]
    },
    {
     "name": "stderr",
     "output_type": "stream",
     "text": [
      "100%|██████████| 9/9 [00:19<00:00,  2.17s/it]\n",
      "100%|██████████| 4/4 [00:05<00:00,  1.47s/it]\n"
     ]
    },
    {
     "name": "stdout",
     "output_type": "stream",
     "text": [
      "Train Loss: 0.5086, Train IoU: 0.8279\n",
      "Val Loss: 0.4747, Val IoU: 0.8259\n",
      "Epoch 95/100\n"
     ]
    },
    {
     "name": "stderr",
     "output_type": "stream",
     "text": [
      "100%|██████████| 9/9 [00:20<00:00,  2.28s/it]\n",
      "100%|██████████| 4/4 [00:05<00:00,  1.44s/it]\n"
     ]
    },
    {
     "name": "stdout",
     "output_type": "stream",
     "text": [
      "Train Loss: 0.4948, Train IoU: 0.8293\n",
      "Val Loss: 0.4565, Val IoU: 0.8348\n",
      "Epoch 96/100\n"
     ]
    },
    {
     "name": "stderr",
     "output_type": "stream",
     "text": [
      "100%|██████████| 9/9 [00:19<00:00,  2.22s/it]\n",
      "100%|██████████| 4/4 [00:05<00:00,  1.45s/it]\n"
     ]
    },
    {
     "name": "stdout",
     "output_type": "stream",
     "text": [
      "Train Loss: 0.4840, Train IoU: 0.8498\n",
      "Val Loss: 0.4530, Val IoU: 0.8444\n",
      "Epoch 97/100\n"
     ]
    },
    {
     "name": "stderr",
     "output_type": "stream",
     "text": [
      "100%|██████████| 9/9 [00:20<00:00,  2.27s/it]\n",
      "100%|██████████| 4/4 [00:05<00:00,  1.44s/it]\n"
     ]
    },
    {
     "name": "stdout",
     "output_type": "stream",
     "text": [
      "Train Loss: 0.4844, Train IoU: 0.8568\n",
      "Val Loss: 0.4737, Val IoU: 0.8410\n",
      "Epoch 98/100\n"
     ]
    },
    {
     "name": "stderr",
     "output_type": "stream",
     "text": [
      "100%|██████████| 9/9 [00:19<00:00,  2.19s/it]\n",
      "100%|██████████| 4/4 [00:05<00:00,  1.49s/it]\n"
     ]
    },
    {
     "name": "stdout",
     "output_type": "stream",
     "text": [
      "Train Loss: 0.4858, Train IoU: 0.8448\n",
      "Val Loss: 0.4599, Val IoU: 0.8372\n",
      "Epoch 99/100\n"
     ]
    },
    {
     "name": "stderr",
     "output_type": "stream",
     "text": [
      "100%|██████████| 9/9 [00:19<00:00,  2.17s/it]\n",
      "100%|██████████| 4/4 [00:05<00:00,  1.46s/it]\n"
     ]
    },
    {
     "name": "stdout",
     "output_type": "stream",
     "text": [
      "Train Loss: 0.4807, Train IoU: 0.8528\n",
      "Val Loss: 0.4508, Val IoU: 0.8409\n",
      "Epoch 100/100\n"
     ]
    },
    {
     "name": "stderr",
     "output_type": "stream",
     "text": [
      "100%|██████████| 9/9 [00:20<00:00,  2.23s/it]\n",
      "100%|██████████| 4/4 [00:05<00:00,  1.46s/it]"
     ]
    },
    {
     "name": "stdout",
     "output_type": "stream",
     "text": [
      "Train Loss: 0.4894, Train IoU: 0.8448\n",
      "Val Loss: 0.4408, Val IoU: 0.8444\n"
     ]
    },
    {
     "name": "stderr",
     "output_type": "stream",
     "text": [
      "\n"
     ]
    }
   ],
   "source": [
    "\n",
    "\n",
    "import segmentation_models_pytorch as smp\n",
    "from tqdm import tqdm\n",
    "\n",
    "# Set device\n",
    "DEVICE = torch.device(\"cuda\" if torch.cuda.is_available() else \"cpu\")\n",
    "\n",
    "# Initialize model, loss function, optimizer, and learning rate scheduler\n",
    "model = UNet_ECBA().to(DEVICE)\n",
    "\n",
    "\n",
    "loss_fn = HybridLoss()\n",
    "optimizer = torch.optim.Adam([dict(params=model.parameters(), lr=0.0001)])\n",
    "lr_scheduler = torch.optim.lr_scheduler.CosineAnnealingWarmRestarts(optimizer, T_0=1, T_mult=2, eta_min=5e-5)\n",
    "\n",
    "# Define IoU metric with threshold\n",
    "iou_metric = smp.utils.metrics.IoU(threshold=0.5)\n",
    "\n",
    "# Function to calculate IoU using smp's IoU metric\n",
    "def calculate_iou(outputs: torch.Tensor, labels: torch.Tensor):\n",
    "    # Ensure outputs and labels are on the same device\n",
    "    outputs, labels = outputs.cpu(), labels.cpu()\n",
    "    # Apply the smp IoU metric\n",
    "    iou_score = iou_metric(outputs, labels)\n",
    "    # Return the IoU score\n",
    "    return iou_score.item()\n",
    "\n",
    "# Logging lists\n",
    "train_logs_list = []\n",
    "valid_logs_list = []\n",
    "\n",
    "# Training loop\n",
    "EPOCHS = 100\n",
    "for epoch in range(EPOCHS):\n",
    "    print(f\"Epoch {epoch+1}/{EPOCHS}\")\n",
    "    model.train()\n",
    "    running_loss = 0.0\n",
    "    running_iou = 0.0\n",
    "    for images, masks in tqdm(train_loader):\n",
    "        images = images.to(DEVICE)\n",
    "        masks = masks.to(DEVICE)\n",
    "        optimizer.zero_grad()\n",
    "        outputs = model(images)\n",
    "        loss = loss_fn(outputs, masks)\n",
    "        loss.backward()\n",
    "        optimizer.step()\n",
    "        \n",
    "        # Accumulate loss and IoU for training\n",
    "        running_loss += loss.item()\n",
    "        running_iou += calculate_iou(outputs, masks)\n",
    "    train_loss = running_loss / len(train_loader)\n",
    "    train_iou = running_iou / len(train_loader)\n",
    "\n",
    "    model.eval()\n",
    "    running_loss = 0.0\n",
    "    running_iou = 0.0\n",
    "    with torch.no_grad():\n",
    "        for images, masks in tqdm(valid_loader):\n",
    "            images = images.to(DEVICE)\n",
    "            masks = masks.to(DEVICE)\n",
    "            outputs = model(images)\n",
    "            loss = loss_fn(outputs, masks)\n",
    "            \n",
    "            # Accumulate loss and IoU for validation\n",
    "            running_loss += loss.item()\n",
    "            running_iou += calculate_iou(outputs, masks)\n",
    "    val_loss = running_loss / len(valid_loader)\n",
    "    val_iou = running_iou / len(valid_loader)\n",
    "\n",
    "    # Log results\n",
    "    train_logs_list.append({'epoch': epoch + 1, 'train_loss': train_loss, 'train_iou': train_iou})\n",
    "    valid_logs_list.append({'epoch': epoch + 1, 'valid_loss': val_loss, 'valid_iou': val_iou})\n",
    "    \n",
    "    print(f\"Train Loss: {train_loss:.4f}, Train IoU: {train_iou:.4f}\")\n",
    "    print(f\"Val Loss: {val_loss:.4f}, Val IoU: {val_iou:.4f}\")\n",
    "    \n",
    "    # Update learning rate\n",
    "    lr_scheduler.step()\n"
   ]
  },
  {
   "cell_type": "code",
   "execution_count": 16,
   "metadata": {
    "execution": {
     "iopub.execute_input": "2025-03-31T21:21:53.942585Z",
     "iopub.status.busy": "2025-03-31T21:21:53.942111Z",
     "iopub.status.idle": "2025-03-31T21:22:09.230759Z",
     "shell.execute_reply": "2025-03-31T21:22:09.229929Z",
     "shell.execute_reply.started": "2025-03-31T21:21:53.942541Z"
    },
    "trusted": true
   },
   "outputs": [
    {
     "name": "stderr",
     "output_type": "stream",
     "text": [
      "100%|██████████| 10/10 [00:15<00:00,  1.53s/it]"
     ]
    },
    {
     "name": "stdout",
     "output_type": "stream",
     "text": [
      "Evaluation on Test Data: Mean IoU Score: 0.7866, Mean Dice Loss: 0.4683\n"
     ]
    },
    {
     "name": "stderr",
     "output_type": "stream",
     "text": [
      "\n"
     ]
    }
   ],
   "source": [
    "# Define test dataset and dataloader\n",
    "test_dataset = BuildingsDataset(\n",
    "    x_test_dir, \n",
    "    y_test_dir, \n",
    "    augmentation=get_validation_augmentation(), \n",
    "    preprocessing=get_preprocessing(preprocessing_fn=None),\n",
    "    class_rgb_values=select_class_rgb_values,\n",
    ")\n",
    "\n",
    "test_dataloader = DataLoader(test_dataset)\n",
    "\n",
    "# Function to evaluate model on test data\n",
    "def evaluate_model(model, dataloader, loss_fn, device):\n",
    "    model.eval()\n",
    "    running_loss = 0.0\n",
    "    running_iou = 0.0\n",
    "    with torch.no_grad():\n",
    "        for images, masks in tqdm(dataloader):\n",
    "            images = images.to(device)\n",
    "            masks = masks.to(device)\n",
    "            outputs = model(images)\n",
    "            loss = loss_fn(outputs, masks)\n",
    "            running_loss += loss.item()\n",
    "            running_iou += calculate_iou(outputs, masks)  # Using smp's IoU metric with threshold\n",
    "    epoch_loss = running_loss / len(dataloader)\n",
    "    epoch_iou = running_iou / len(dataloader)\n",
    "    return epoch_loss, epoch_iou\n",
    "\n",
    "# Evaluate model on test data\n",
    "test_loss, test_iou = evaluate_model(model, test_dataloader, loss_fn, DEVICE)\n",
    "print(f\"Evaluation on Test Data: Mean IoU Score: {test_iou:.4f}, Mean Dice Loss: {test_loss:.4f}\")\n"
   ]
  },
  {
   "cell_type": "code",
   "execution_count": 17,
   "metadata": {
    "execution": {
     "iopub.execute_input": "2025-03-31T21:22:09.232003Z",
     "iopub.status.busy": "2025-03-31T21:22:09.231675Z",
     "iopub.status.idle": "2025-03-31T21:22:10.298292Z",
     "shell.execute_reply": "2025-03-31T21:22:10.297468Z",
     "shell.execute_reply.started": "2025-03-31T21:22:09.231961Z"
    },
    "trusted": true
   },
   "outputs": [
    {
     "data": {
      "image/png": "[encoded data removed]",
      "text/plain": [
       "<Figure size 2000x800 with 1 Axes>"
      ]
     },
     "metadata": {},
     "output_type": "display_data"
    },
    {
     "data": {
      "image/png": "[encoded data removed]",
      "text/plain": [
       "<Figure size 2000x800 with 1 Axes>"
      ]
     },
     "metadata": {},
     "output_type": "display_data"
    }
   ],
   "source": [
    "# Visualization of metrics\n",
    "train_logs_df = pd.DataFrame(train_logs_list)\n",
    "valid_logs_df = pd.DataFrame(valid_logs_list)\n",
    "\n",
    "plt.figure(figsize=(20, 8))\n",
    "plt.plot(train_logs_df['epoch'], train_logs_df['train_iou'], lw=3, label='Train')\n",
    "plt.plot(valid_logs_df['epoch'], valid_logs_df['valid_iou'], lw=3, label='Valid')\n",
    "plt.xlabel('Epochs', fontsize=21)\n",
    "plt.ylabel('IoU Score', fontsize=21)\n",
    "plt.title('IoU Score Plot', fontsize=21)\n",
    "plt.legend(loc='best', fontsize=16)\n",
    "plt.grid()\n",
    "plt.savefig('iou_score_plot.png')\n",
    "plt.show()\n",
    "\n",
    "plt.figure(figsize=(20, 8))\n",
    "plt.plot(train_logs_df['epoch'], train_logs_df['train_loss'], lw=3, label='Train')\n",
    "plt.plot(valid_logs_df['epoch'], valid_logs_df['valid_loss'], lw=3, label='Valid')\n",
    "plt.xlabel('Epochs', fontsize=21)\n",
    "plt.ylabel('Dice Loss', fontsize=21)\n",
    "plt.title('Dice Loss Plot', fontsize=21)\n",
    "plt.legend(loc='best', fontsize=16)\n",
    "plt.grid()\n",
    "plt.savefig('dice_loss_plot.png')\n",
    "plt.show()"
   ]
  },
  {
   "cell_type": "code",
   "execution_count": 18,
   "metadata": {
    "execution": {
     "iopub.execute_input": "2025-03-31T21:22:10.300273Z",
     "iopub.status.busy": "2025-03-31T21:22:10.300039Z",
     "iopub.status.idle": "2025-03-31T21:22:26.735078Z",
     "shell.execute_reply": "2025-03-31T21:22:26.734203Z",
     "shell.execute_reply.started": "2025-03-31T21:22:10.300252Z"
    },
    "trusted": true
   },
   "outputs": [
    {
     "name": "stderr",
     "output_type": "stream",
     "text": [
      "Saving Predictions: 100%|██████████| 10/10 [00:16<00:00,  1.64s/it]\n"
     ]
    }
   ],
   "source": [
    "def save_predictions(model, dataloader, device, class_rgb_values, save_dir):\n",
    "    os.makedirs(save_dir, exist_ok=True)\n",
    "    model.eval()\n",
    "    \n",
    "    with torch.no_grad():\n",
    "        for i, (images, masks) in enumerate(tqdm(dataloader, desc=\"Saving Predictions\")):\n",
    "            images = images.to(device)\n",
    "            outputs = model(images)\n",
    "            predicted_masks = outputs.cpu().numpy()\n",
    "            \n",
    "            # Convert predictions to RGB format\n",
    "            predicted_masks = np.argmax(predicted_masks, axis=1)\n",
    "            decoded_preds = [colour_code_segmentation(mask, class_rgb_values) for mask in predicted_masks]\n",
    "            \n",
    "            for j, decoded_pred in enumerate(decoded_preds):\n",
    "                # Convert to uint8 format\n",
    "                decoded_pred = decoded_pred.astype(np.uint8)\n",
    "                \n",
    "                # Save each prediction as an image\n",
    "                save_path = os.path.join(save_dir, f'pred_{i * len(decoded_preds) + j}.png')\n",
    "                cv2.imwrite(save_path, cv2.cvtColor(decoded_pred, cv2.COLOR_RGB2BGR))\n",
    "\n",
    "# Specify the directory for saving predictions\n",
    "predictions_dir = './predictions'\n",
    "save_predictions(model, test_dataloader, DEVICE, select_class_rgb_values, predictions_dir)\n"
   ]
  },
  {
   "cell_type": "code",
   "execution_count": 19,
   "metadata": {
    "execution": {
     "iopub.execute_input": "2025-03-31T21:22:26.736246Z",
     "iopub.status.busy": "2025-03-31T21:22:26.736016Z",
     "iopub.status.idle": "2025-03-31T21:22:53.120616Z",
     "shell.execute_reply": "2025-03-31T21:22:53.119878Z",
     "shell.execute_reply.started": "2025-03-31T21:22:26.736226Z"
    },
    "trusted": true
   },
   "outputs": [
    {
     "name": "stdout",
     "output_type": "stream",
     "text": [
      "Saved: ./resizedImages/OUTPUT_1_1.png\n",
      "Saved: ./resizedImages/OUTPUT_1_2.png\n",
      "Saved: ./resizedImages/OUTPUT_1_3.png\n",
      "Saved: ./resizedImages/OUTPUT_1_4.png\n",
      "Saved: ./resizedImages/OUTPUT_2_1.png\n",
      "Saved: ./resizedImages/OUTPUT_2_2.png\n",
      "Saved: ./resizedImages/OUTPUT_2_3.png\n",
      "Saved: ./resizedImages/OUTPUT_2_4.png\n",
      "Saved: ./resizedLabels/1.1_buildings.png\n",
      "Saved: ./resizedLabels/1.2_buildings.png\n",
      "Saved: ./resizedLabels/1.3_buildings.png\n",
      "Saved: ./resizedLabels/1.4_buildings.png\n",
      "Saved: ./resizedLabels/2.1_buildings.png\n",
      "Saved: ./resizedLabels/2.2_buildings.png\n",
      "Saved: ./resizedLabels/2.3_buildings.png\n",
      "Saved: ./resizedLabels/2.4_buildings.png\n"
     ]
    }
   ],
   "source": [
    "DATA_DIR_2 = '../input/sat_images'\n",
    "\n",
    "x_test_dir_2 = '../input/washington-buildingsubset/'\n",
    "y_test_dir_2 = '../input/washingtonsubset-buildings/test_labels/'\n",
    "\n",
    "def resizeHelper(diry, output_dir, resolution):\n",
    "    os.makedirs(output_dir, exist_ok=True)  # Ensure output directory exists\n",
    "\n",
    "    for image_id in sorted(os.listdir(diry)):\n",
    "        input_path = os.path.join(diry, image_id)\n",
    "        output_path = os.path.join(output_dir, image_id)  # Preserve filename\n",
    "        \n",
    "        img = cv2.imread(input_path, cv2.IMREAD_UNCHANGED)\n",
    "        if img is None:\n",
    "            print(f\"Skipping {image_id} (could not read)\")\n",
    "            continue\n",
    "\n",
    "        img_resized = cv2.resize(img, resolution, interpolation=cv2.INTER_AREA)\n",
    "        cv2.imwrite(output_path, img_resized)\n",
    "        print(f\"Saved: {output_path}\")\n",
    "\n",
    "resizeHelper(x_test_dir_2, \"./resizedImages\", (1500, 1500))\n",
    "resizeHelper(y_test_dir_2, \"./resizedLabels\", (1500, 1500))\n",
    "\n",
    "xt2_final = \"./resizedImages\"\n",
    "yt2_final = \"./resizedLabels\""
   ]
  },
  {
   "cell_type": "code",
   "execution_count": 20,
   "metadata": {
    "execution": {
     "iopub.execute_input": "2025-03-31T21:22:53.121740Z",
     "iopub.status.busy": "2025-03-31T21:22:53.121422Z",
     "iopub.status.idle": "2025-03-31T21:22:53.129343Z",
     "shell.execute_reply": "2025-03-31T21:22:53.128737Z",
     "shell.execute_reply.started": "2025-03-31T21:22:53.121696Z"
    },
    "trusted": true
   },
   "outputs": [
    {
     "name": "stdout",
     "output_type": "stream",
     "text": [
      "['./resizedImages/OUTPUT_1_1.png', './resizedImages/OUTPUT_1_2.png', './resizedImages/OUTPUT_1_3.png', './resizedImages/OUTPUT_1_4.png', './resizedImages/OUTPUT_2_1.png', './resizedImages/OUTPUT_2_2.png', './resizedImages/OUTPUT_2_3.png', './resizedImages/OUTPUT_2_4.png']\n"
     ]
    }
   ],
   "source": [
    "xt2_final = \"./resizedImages\"\n",
    "yt2_final = \"./resizedLabels\"\n",
    "\n",
    "test_dataset_2 = BuildingsDataset(\n",
    "    xt2_final, \n",
    "    yt2_final, \n",
    "    augmentation=get_validation_augmentation(), \n",
    "    preprocessing=get_preprocessing(preprocessing_fn=None),\n",
    "    class_rgb_values=select_class_rgb_values,\n",
    ")\n",
    "\n",
    "print([os.path.join(\"./resizedImages\", image_id) for image_id in sorted(os.listdir('./resizedImages'))])\n",
    "\n",
    "test_dataloader_2 = DataLoader(test_dataset_2)"
   ]
  },
  {
   "cell_type": "code",
   "execution_count": 21,
   "metadata": {
    "execution": {
     "iopub.execute_input": "2025-03-31T21:22:53.130606Z",
     "iopub.status.busy": "2025-03-31T21:22:53.130274Z",
     "iopub.status.idle": "2025-03-31T21:23:17.971238Z",
     "shell.execute_reply": "2025-03-31T21:23:17.970547Z",
     "shell.execute_reply.started": "2025-03-31T21:22:53.130575Z"
    },
    "trusted": true
   },
   "outputs": [
    {
     "name": "stderr",
     "output_type": "stream",
     "text": [
      "100%|██████████| 8/8 [00:11<00:00,  1.47s/it]\n"
     ]
    },
    {
     "name": "stdout",
     "output_type": "stream",
     "text": [
      "Evaluation on Test Data: Mean IoU Score: 0.3405, Mean Dice Loss: 0.9586\n"
     ]
    },
    {
     "name": "stderr",
     "output_type": "stream",
     "text": [
      "Saving Predictions: 100%|██████████| 8/8 [00:13<00:00,  1.63s/it]\n"
     ]
    }
   ],
   "source": [
    "test_loss, test_iou = evaluate_model(model, test_dataloader_2, loss_fn, DEVICE)\n",
    "print(f\"Evaluation on Test Data: Mean IoU Score: {test_iou:.4f}, Mean Dice Loss: {test_loss:.4f}\")\n",
    "\n",
    "predictions_dir_2 = './predictions_2'\n",
    "save_predictions(model, test_dataloader_2, DEVICE, select_class_rgb_values, predictions_dir_2)"
   ]
  }
 ],
 "metadata": {
  "kaggle": {
   "accelerator": "nvidiaTeslaT4",
   "dataSources": [
    {
     "datasetId": 892049,
     "sourceId": 1514093,
     "sourceType": "datasetVersion"
    },
    {
     "datasetId": 6606620,
     "sourceId": 10667438,
     "sourceType": "datasetVersion"
    },
    {
     "datasetId": 6606652,
     "sourceId": 10667488,
     "sourceType": "datasetVersion"
    },
    {
     "datasetId": 6606442,
     "sourceId": 10668226,
     "sourceType": "datasetVersion"
    },
    {
     "datasetId": 6653697,
     "sourceId": 10731795,
     "sourceType": "datasetVersion"
    },
    {
     "datasetId": 6654263,
     "sourceId": 10732528,
     "sourceType": "datasetVersion"
    }
   ],
   "dockerImageVersionId": 30919,
   "isGpuEnabled": true,
   "isInternetEnabled": true,
   "language": "python",
   "sourceType": "notebook"
  },
  "kernelspec": {
   "display_name": "Python 3",
   "language": "python",
   "name": "python3"
  },
  "language_info": {
   "codemirror_mode": {
    "name": "ipython",
    "version": 3
   },
   "file_extension": ".py",
   "mimetype": "text/x-python",
   "name": "python",
   "nbconvert_exporter": "python",
   "pygments_lexer": "ipython3",
   "version": "3.10.12"
  }
 },
 "nbformat": 4,
 "nbformat_minor": 4
}
